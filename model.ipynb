{
 "cells": [
  {
   "cell_type": "code",
   "execution_count": 2,
   "id": "9a37fe55-82d9-48a8-ad38-2832b4889e10",
   "metadata": {},
   "outputs": [],
   "source": [
    "import os\n",
    "import random\n",
    "import numpy as np\n",
    "import pandas as pd\n",
    "import math\n",
    "import matplotlib\n",
    "import matplotlib.pyplot as plt\n",
    "\n",
    "from sklearn.model_selection import train_test_split\n",
    "from sklearn.metrics import mean_squared_error as mse\n",
    "from sklearn.neighbors import KernelDensity\n",
    "\n",
    "import tensorflow as tf\n",
    "from tensorflow.keras.layers import *\n",
    "from tensorflow.keras.models import *\n",
    "from tensorflow.keras.optimizers import *\n",
    "from tensorflow.keras import backend as K\n",
    "from tensorflow.keras.callbacks import EarlyStopping\n",
    "from tensorflow.keras.callbacks import ModelCheckpoint"
   ]
  },
  {
   "cell_type": "code",
   "execution_count": null,
   "id": "6bcad3a7-761a-40b0-bccd-f1809d988697",
   "metadata": {},
   "outputs": [],
   "source": [
    "# os.getcwd()"
   ]
  },
  {
   "cell_type": "code",
   "execution_count": 4,
   "id": "cfe99622-842b-4d2a-b3d4-c6316c12ace8",
   "metadata": {},
   "outputs": [],
   "source": [
    "# load data\n",
    "AMOC_Obs = pd.read_csv('input_data/dtdata_AMOC_Obs.csv', index_col = 0) # 1680 rows × 2 columns\n",
    "AMOC_Ensemble = pd.read_csv('input_data/dtdata_AMOC_Ensemble.csv', index_col = 0) # 5988 rows × 29 columns\n",
    "\n",
    "AMOCindex_Obs = pd.read_csv('input_data/dtdata_AMOCindex_Obs.csv', index_col = 0) # 1680 rows × 2 columns\n",
    "AMOCindex_Ensemble = pd.read_csv('input_data/dtdata_AMOCindex_Ensemble.csv', index_col = 0) # 5988 rows × 29 columns"
   ]
  },
  {
   "cell_type": "code",
   "execution_count": 5,
   "id": "4df0491c-9817-4b07-b9c9-ba62d1669326",
   "metadata": {},
   "outputs": [],
   "source": [
    "# Define a class to min-max scale the input data according to universe data, prevent certain dimension domian.\n",
    "# Input should be a list of pandas dataframe, will be combined column-wise.\n",
    "class Scaler:\n",
    "    def __init__(self, data):\n",
    "        data = pd.concat(data, axis = 1)\n",
    "\n",
    "        self.min = data.min().min()\n",
    "        self.max = data.max().max()\n",
    "\n",
    "    def transform(self, X):\n",
    "        return (X - self.min) / (self.max - self.min)\n",
    "    \n",
    "    # Transform data back to de-meaned version of original data: for further pre-processing, all data are de-meaned with pseudo-non-missing part of data. This function transform data back to\n",
    "    # de-meaned version of original data. To transform back the long-term trend (output of model) should use this function too.\n",
    "    def inverse_transform(self, X):\n",
    "        return X * (self.max - self.min)"
   ]
  },
  {
   "cell_type": "code",
   "execution_count": 6,
   "id": "900dd89d-dee7-4c86-bd88-6a4fb3a5db9a",
   "metadata": {},
   "outputs": [],
   "source": [
    "# Create scaled data for AMOC\n",
    "\n",
    "AMOC_scaler = Scaler([AMOC_Obs[['Obs']], AMOC_Ensemble[[str(i) for i in range(1, 29)]]])\n",
    "# copy(): The copy() method creates a shallow copy of a DataFrame. This means that the new object points \n",
    "# to the same data as the original object. Any changes made to the copy will affect the original object.\n",
    "# The copy(deep = True) method creates a deep copy of a DataFrame. This means that the new object has its own \n",
    "# copy of the data. Changes made to the copy will not affect the original object.\n",
    "AMOC_Obs_std = AMOC_Obs.copy(deep = True)\n",
    "AMOC_Ensemble_std = AMOC_Ensemble.copy(deep = True)\n",
    "\n",
    "AMOC_Obs_std[['Obs']] = AMOC_scaler.transform(AMOC_Obs_std[['Obs']])\n",
    "AMOC_Ensemble_std[[str(i) for i in range(1, 29)]] = AMOC_scaler.transform(AMOC_Ensemble_std[[str(i) for i in range(1, 29)]])"
   ]
  },
  {
   "cell_type": "code",
   "execution_count": 7,
   "id": "30c50f91-8492-444b-b068-ae2df0f3de41",
   "metadata": {},
   "outputs": [],
   "source": [
    "# Create scaled data for AMOC index\n",
    "\n",
    "AMOCindex_scaler = Scaler([AMOCindex_Obs[['Obs']], AMOCindex_Ensemble[[str(i) for i in range(1, 29)]]])\n",
    "\n",
    "AMOCindex_Obs_std = AMOCindex_Obs.copy(deep = True)\n",
    "AMOCindex_Ensemble_std = AMOCindex_Ensemble.copy(deep = True)\n",
    "\n",
    "AMOCindex_Obs_std[['Obs']] = AMOCindex_scaler.transform(AMOCindex_Obs_std[['Obs']])\n",
    "AMOCindex_Ensemble_std[[str(i) for i in range(1, 29)]] = AMOCindex_scaler.transform(AMOCindex_Ensemble_std[[str(i) for i in range(1, 29)]])"
   ]
  },
  {
   "cell_type": "code",
   "execution_count": 8,
   "id": "a380c067-942f-479d-bae2-9c96bd12945b",
   "metadata": {},
   "outputs": [],
   "source": [
    "# # check scaling by plotting\n",
    "# i = 0\n",
    "# a = AMOC_Ensemble.iloc[i:(i+1680),9]\n",
    "# a_std = AMOC_Ensemble_std.iloc[i:(i+1680),9]\n",
    "\n",
    "# plt.plot(a)\n",
    "# # plt.plot(a_std)\n",
    "# # plt.plot(a_std * (AMOC_scaler.max - AMOC_scaler.min) + AMOC_scaler.min)\n",
    "# plt.plot(AMOC_scaler.inverse_transform(a_std))"
   ]
  },
  {
   "cell_type": "code",
   "execution_count": 8,
   "id": "ab8fc22f-c007-4e83-9d38-a686d86a0471",
   "metadata": {},
   "outputs": [],
   "source": [
    "# # set seed\n",
    "\n",
    "# tf.random.set_seed(seed)\n",
    "# os.environ['PYTHONHASHSEED'] = str(seed)\n",
    "# np.random.seed(seed)\n",
    "# random.seed(seed)\n",
    "\n",
    "seed = 1"
   ]
  },
  {
   "cell_type": "code",
   "execution_count": 10,
   "id": "c8364946-ec80-40e3-bf82-32cfe55ce570",
   "metadata": {},
   "outputs": [],
   "source": [
    "# Generate input data to use in DVAE\n",
    "\n",
    "# Randomly sample 6,000 different time segments from 499 years (5,988 data points) Ensemble data; for each time segment,\n",
    "# there will be 28 different training examples. Total would be 6,000 * 28 = 168,000 data set.\n",
    "num_select = 6000\n",
    "\n",
    "AMOC = np.array(AMOC_Ensemble_std[[str(i) for i in range(1, 29)]])\n",
    "AMOC_index = np.array(AMOCindex_Ensemble_std[[str(i) for i in range(1, 29)]])\n",
    "\n",
    "Ensemble_length = AMOC.shape[0] # 5,988 (499 years)\n",
    "Obs_length = len(AMOC_Obs_std) # 1,680 (140 years)\n",
    "mask = np.array(~AMOC_Obs_std['Obs'].isna()) # non-missing part in observation data\n",
    "\n",
    "# start_list: List of start index of length 1,680 time segments from Ensemble data.\n",
    "np.random.seed(seed)\n",
    "start_list = [np.random.randint(0, Ensemble_length - Obs_length) for i in range(num_select)]\n",
    "\n",
    "# AMOC_input: AMOC data corresponding to observation non-miss part.\n",
    "# AMOCindex_input: AMOC Index data with same time segment corresponding to AMOC\n",
    "# target: AMOC long term trend, generated from 2-degree polynomial fitting of 28 Ensemble trails to filter out nature variability.\n",
    "AMOC_input = []\n",
    "AMOCindex_input = []\n",
    "target = []\n",
    "\n",
    "for start in start_list:\n",
    "    AMOC_seg = AMOC[start:(start + Obs_length), :] # 1,680 * 28\n",
    "    AMOC_seg_masked = AMOC_seg[mask, :] # 179 * 28\n",
    "    \n",
    "    # De-mean AMOC data with mean of non-missing part data, which corresponding to real-world data: only non-missing part is known.\n",
    "    mean = AMOC_seg_masked.mean(axis = 0)\n",
    "    AMOC_seg = AMOC_seg - mean\n",
    "    AMOC_seg_masked = AMOC_seg_masked - mean\n",
    "    \n",
    "    # Fit 2-degree polynomial with 28 ensemble trails\n",
    "    x = np.array(range(Obs_length))\n",
    "    # ploy: Polynomial coefficients, highest power first.\n",
    "    poly = np.polyfit(x.repeat(AMOC_seg.shape[1]), AMOC_seg.flatten(), 2)\n",
    "    y = x**2 * poly[0] + x * poly[1] + poly[2]\n",
    "    y = np.reshape(y, (y.shape[0], 1)) # 1,680 * 1\n",
    "    y = y.repeat(AMOC_seg.shape[1], axis = 1) # 1,680 * 28\n",
    "\n",
    "    # De-mean AMOC index data.\n",
    "    AMOCindex_seg = AMOC_index[start:(start + Obs_length), :]\n",
    "    mean = AMOCindex_seg.mean(axis = 0)\n",
    "    AMOCindex_seg = AMOCindex_seg - mean\n",
    "    \n",
    "    # Reshape data to (number of trails, number of timesteps, dimension)\n",
    "    AMOC_seg_masked = np.reshape(np.ravel(AMOC_seg_masked, order = 'F'), (AMOC_seg_masked.shape[1], AMOC_seg_masked.shape[0], 1))\n",
    "    AMOCindex_seg = np.reshape(np.ravel(AMOCindex_seg, order = 'F'), (AMOCindex_seg.shape[1], AMOCindex_seg.shape[0], 1))\n",
    "    y = np.reshape(np.ravel(y, order = 'F'), (y.shape[1], y.shape[0], 1))\n",
    "    \n",
    "    AMOC_input.append(AMOC_seg_masked)\n",
    "    AMOCindex_input.append(AMOCindex_seg)\n",
    "    target.append(y)\n",
    "    \n",
    "AMOC_input = np.vstack(AMOC_input)\n",
    "AMOCindex_input = np.vstack(AMOCindex_input)\n",
    "target = np.vstack(target)"
   ]
  },
  {
   "cell_type": "code",
   "execution_count": 11,
   "id": "337329b1-84be-4cbf-ae0c-b28de59b8dcf",
   "metadata": {},
   "outputs": [
    {
     "name": "stdout",
     "output_type": "stream",
     "text": [
      "(168000, 179, 1)\n",
      "(168000, 1680, 1)\n",
      "(168000, 1680, 1)\n"
     ]
    }
   ],
   "source": [
    "print(AMOC_input.shape)\n",
    "print(AMOCindex_input.shape)\n",
    "print(target.shape)"
   ]
  },
  {
   "cell_type": "code",
   "execution_count": 12,
   "id": "0c2c026e-d172-4796-a5d9-ade9dbe1d055",
   "metadata": {},
   "outputs": [],
   "source": [
    "### TRAIN TEST SPLIT ###\n",
    "\n",
    "# AMOC_input_train, AMOC_input_test = tf.split(\n",
    "#     tf.random.shuffle(AMOC_input, seed = seed), [AMOC_input.shape[0] * 0.8, AMOC_input.shape[0] * 0.2], axis=0\n",
    "# )\n",
    "\n",
    "AMOC_input_train, AMOC_input_test, AMOCindex_input_train, AMOCindex_input_test, target_train, target_test = train_test_split(AMOC_input, AMOCindex_input, target, test_size=0.2, random_state=seed)"
   ]
  },
  {
   "cell_type": "code",
   "execution_count": 13,
   "id": "56a917c8-eb56-4dd8-b107-246f2a3e9af3",
   "metadata": {},
   "outputs": [],
   "source": [
    "### UTILITY FUNCTIONS FOR VAE CREATION ###\n",
    "\n",
    "def sampling(args):\n",
    "    # z_log_sigma: log sigma^2, this way could guarantee sigma^2 to be positive\n",
    "    z_mean, z_log_sigma = args\n",
    "    batch_size = tf.shape(z_mean)[0]\n",
    "    epsilon = K.random_normal(shape=(batch_size, tf.shape(z_mean)[1], tf.shape(z_mean)[2]), mean=0., stddev=1.)\n",
    "\n",
    "    return z_mean + K.exp(0.5 * z_log_sigma) * epsilon\n",
    "\n",
    "def vae_loss(original, out, z_mean, z_log_sigma, tuning1=1.0, tuning2=1.0, tuning3=1.0, tuning4=1.0):\n",
    "    batch_size = tf.cast(tf.shape(z_mean)[0], tf.float32)\n",
    "    \n",
    "    diff1 = out[:, 1:, :] - out[:, :(-1), :]\n",
    "    diff2 = diff1[:, 1:, :] - diff1[:, :(-1), :]\n",
    "    \n",
    "    # smoothness factor to help make output smooth, square diff of 0/1st/2nd order differentiation\n",
    "    smoothness1 = K.mean(K.square(diff1)) * tuning1\n",
    "    smoothness2 = K.mean(K.square(diff2)) * tuning2\n",
    "    # SSE and KL-divergence.\n",
    "    reconstruction = K.sum(K.square(original - out)) * tuning3\n",
    "    kl = -0.5 * K.sum(1 + z_log_sigma - K.square(z_mean) - K.exp(z_log_sigma)) * tuning4\n",
    "\n",
    "    return (smoothness1 + smoothness2 + reconstruction + kl)/batch_size\n",
    "\n",
    "def Conv1DTranspose(input_tensor, filters=8, kernel_size=60, strides=4, padding='same', activation='relu'):\n",
    "    \"\"\"\n",
    "        Define de-convolutional layer use Conv2DTranspose\n",
    "        \n",
    "        input_tensor: tensor, with the shape (batch_size, time_steps, dims)\n",
    "        filters: int, output dimension, i.e. the output tensor will have the shape of (batch_size, time_steps, filters)\n",
    "        kernel_size: int, size of the convolution kernel\n",
    "        strides: int, convolution step size\n",
    "        padding: 'same' | 'valid'\n",
    "    \"\"\"\n",
    "    x = Lambda(lambda x: K.expand_dims(x, axis=2))(input_tensor)\n",
    "#     x = Conv2DTranspose(filters=filters, kernel_size=(kernel_size, 1), strides=(strides, 1), padding=padding, activation=activation)(x)\n",
    "    x = Conv2DTranspose(filters, (kernel_size, 1), strides=(strides, 1), padding=padding, activation=activation)(x)\n",
    "    x = Lambda(lambda x: K.squeeze(x, axis=2))(x)\n",
    "    return x"
   ]
  },
  {
   "cell_type": "code",
   "execution_count": 14,
   "id": "87997bab-b50a-41a1-8740-6768180d5500",
   "metadata": {},
   "outputs": [],
   "source": [
    "def get_model(shape_1, shape_2, shape_target, tuning4_para = 4.5):\n",
    "    #latent_dim should be specified by conv1D output shape\n",
    "\n",
    "    ### encoder ###\n",
    "    \n",
    "    inp_AMOC = Input(shape = shape_1) # (batch_size, 179, 1)\n",
    "    inp_AMOCindex = Input(shape = shape_2) # (batch_size, 1680, 1)\n",
    "    AMOC_target = Input(shape = shape_target) # (batch_size, 1680, 1)\n",
    "\n",
    "    enc_AMOC_1 = Conv1D(filters=8, strides=4, kernel_size=60, activation='relu', padding='same', input_shape=(inp_AMOC.shape[1:]))(\n",
    "        inp_AMOC) # (batch_size, 45, 8)\n",
    "    enc_AMOC_2 = Conv1D(filters=8, strides=3, kernel_size=60, activation='relu', padding='same')(enc_AMOC_1) # (batch_size, 15, 8)\n",
    "    enc_AMOC_3 = Conv1D(filters=8, strides=3, kernel_size=60, activation='relu', padding='same')(enc_AMOC_2) # (batch_size, 5, 8)\n",
    "\n",
    "    enc_AMOCindex_1 = Conv1D(filters=8, strides=7, kernel_size=60, activation='relu', padding='same', input_shape=(inp_AMOCindex.shape[1:]))(\n",
    "        inp_AMOCindex) # (batch_size, 240, 8)\n",
    "    enc_AMOCindex_2 = Conv1D(filters=8, strides=4, kernel_size=60, activation='relu', padding='same')(enc_AMOCindex_1) # (batch_size, 60, 8)\n",
    "    enc_AMOCindex_3 = Conv1D(filters=8, strides=4, kernel_size=60, activation='relu', padding='same')(enc_AMOCindex_2) # (batch_size, 15, 8)\n",
    "    enc_AMOCindex_4 = Conv1D(filters=8, strides=3, kernel_size=60, activation='relu', padding='same')(enc_AMOCindex_3) # (batch_size, 5, 8)\n",
    "\n",
    "    enc_out = Concatenate(axis=2)([enc_AMOC_3] + [enc_AMOCindex_4]) # (batch_size, 5, 16)\n",
    "\n",
    "    z_mean = Dense(8)(enc_out) # (batch_size, 5, 8)\n",
    "    z_log_sigma = Dense(8)(enc_out) # (batch_size, 5, 8)\n",
    "\n",
    "    encoder = Model([inp_AMOC, inp_AMOCindex], [z_mean, z_log_sigma])\n",
    "\n",
    "    ### decoder ###\n",
    "\n",
    "    inp_z = Input(shape=z_mean.shape[1:]) # (batch_size, 5, 8)\n",
    "\n",
    "    conv_1 = Conv1DTranspose(inp_z, filters=8, kernel_size=30, strides=7, padding='same', activation='relu') # (batch_size, 35, 8)\n",
    "    conv_2 = Conv1DTranspose(conv_1, filters=8, kernel_size=60, strides=4, padding='same', activation='relu') # (batch_size, 140, 8)\n",
    "    conv_3 = Conv1DTranspose(conv_2, filters=8, kernel_size=60, strides=4, padding='same', activation='relu') # (batch_size, 560, 8)\n",
    "    conv_4 = Conv1DTranspose(conv_3, filters=8, kernel_size=60, strides=3, padding='same', activation='linear') # (batch_size, 1680, 8)\n",
    "\n",
    "    out = Dense(1)(conv_4) # (batch_size, 1680, 1)\n",
    "\n",
    "    decoder = Model([inp_z], [out])\n",
    "\n",
    "    ### encoder + decoder ###\n",
    "\n",
    "    z_mean, z_log_sigma = encoder([inp_AMOC, inp_AMOCindex])\n",
    "    z = Lambda(sampling)([z_mean, z_log_sigma])\n",
    "    pred = decoder([z])\n",
    "\n",
    "    vae = Model([inp_AMOC, inp_AMOCindex, AMOC_target], pred)\n",
    "    vae.add_loss(vae_loss(AMOC_target, pred, z_mean, z_log_sigma, tuning1=0, tuning2=0, tuning3=1.0, tuning4=tuning4_para))\n",
    "    vae.compile(loss=None, optimizer=Adam(learning_rate=1e-3))\n",
    "\n",
    "    return vae"
   ]
  },
  {
   "cell_type": "code",
   "execution_count": null,
   "id": "9bb76d82-83f4-4c99-8185-b2b4997b9484",
   "metadata": {},
   "outputs": [],
   "source": [
    "# tf.random.set_seed(seed)\n",
    "# es = [\n",
    "#     EarlyStopping(patience=10, verbose=1, min_delta=0.001, monitor='val_loss', mode='auto', restore_best_weights=True),\n",
    "#     ModelCheckpoint(filepath='best_model.hdf5', save_freq='epoch', save_best_only=True)]\n",
    "# vae = get_model(AMOC_input.shape[1:], AMOCindex_input.shape[1:], target.shape[1:])\n",
    "# history = vae.fit([AMOC_input_train, AMOCindex_input_train, target_train], batch_size=128, epochs=150, validation_split=0.2, shuffle=False, callbacks=es)"
   ]
  },
  {
   "cell_type": "code",
   "execution_count": null,
   "id": "3d7ca48d-bf5a-4fd7-92b9-3d8cf0700101",
   "metadata": {},
   "outputs": [],
   "source": [
    "# # Visualize Model Training History\n",
    "# plt.plot(history.history['loss'])\n",
    "# plt.plot(history.history['val_loss'])\n",
    "# plt.title('Model loss for tuning4:' + str(para))\n",
    "# plt.ylabel('loss')\n",
    "# plt.xlabel('epoch')\n",
    "# plt.legend(['train', 'validation'], loc='upper left')\n",
    "# plt.show()"
   ]
  },
  {
   "cell_type": "code",
   "execution_count": null,
   "id": "c1635afb-2f3e-424b-9a89-b01202b1dbf8",
   "metadata": {},
   "outputs": [],
   "source": [
    "# Grid serach to find the best ratio between mse loss and KL-divergence in vae loss, the ratio is controlled by tuning parameter 4 in self-defined vae loss.\n",
    "grid_result = {}\n",
    "\n",
    "epoch_num = 150\n",
    "verbose = 0\n",
    "tuning4_grid = [1e-10, 1e-8, 1e-6, 1e-4, 1e-3, 1e-2, 1e-1, 1, 2, 4, 8, 1e1, 1e2]\n",
    "\n",
    "fig, axs = plt.subplots(nrows = 5, ncols = 3, figsize = (20,30))\n",
    "\n",
    "for i, para in enumerate(tuning4_grid):\n",
    "    tf.keras.backend.clear_session()\n",
    "    tf.random.set_seed(seed)\n",
    "    es = [\n",
    "    EarlyStopping(patience=10, verbose=verbose, min_delta=0.001, monitor='val_loss', mode='auto', restore_best_weights=True),\n",
    "    ModelCheckpoint(filepath=file+'best_model_'+'tuning_'+str(para)+'.hdf5', save_freq='epoch', save_best_only=True)]\n",
    "    vae_grid = get_model(AMOC_input.shape[1:], AMOCindex_input.shape[1:], target.shape[1:], tuning4_para = para)\n",
    "    history = vae_grid.fit([AMOC_input_train, AMOCindex_input_train, target_train], batch_size=128, epochs=epoch_num, validation_split=0.2, verbose=verbose, shuffle=False, callbacks=es)\n",
    "    grid_result[para] = min(history.history['val_loss'])\n",
    "    \n",
    "    # Visualize Model Training History\n",
    "    axs[i//3, i%3].plot(history.history['loss'])\n",
    "    axs[i//3, i%3].plot(history.history['val_loss'])\n",
    "    axs[i//3, i%3].set_title('Model loss for tuning4:' + str(para))\n",
    "    axs[i//3, i%3].set_ylabel('loss')\n",
    "    axs[i//3, i%3].set_xlabel('epoch')\n",
    "    axs[i//3, i%3].legend(['train', 'validation'], loc='upper left')\n",
    "\n",
    "plt.show()\n",
    "\n",
    "# fig.savefig('hyper_tuning/history.png', bbox_inches='tight')\n",
    "# np.save('hyper_tuning/grid_result.npy', grid_result)"
   ]
  },
  {
   "cell_type": "code",
   "execution_count": 18,
   "id": "726c4f43-21cb-4a0e-b9ac-c3a2d6fc686b",
   "metadata": {},
   "outputs": [
    {
     "data": {
      "image/png": "[encoded data removed]",
      "text/plain": [
       "<Figure size 504x360 with 1 Axes>"
      ]
     },
     "metadata": {
      "needs_background": "light"
     },
     "output_type": "display_data"
    }
   ],
   "source": [
    "# check: grid_result is a dictionary, need better saving mode\n",
    "# grid_result = np.load(file + 'grid_result.npy')\n",
    "\n",
    "plt.figure(figsize=(7, 5))\n",
    "for key in grid_result:\n",
    "    plt.plot(math.log10(key), math.log10(grid_result[key]), marker = 'o')\n",
    "plt.title('hyperparameter tuning')\n",
    "plt.ylabel('log loss')\n",
    "plt.xlabel('log(tuning parameter 4)')\n",
    "plt.show()"
   ]
  },
  {
   "cell_type": "code",
   "execution_count": 21,
   "id": "7d1f0b42-5163-4525-a065-42f9e2585a3c",
   "metadata": {},
   "outputs": [
    {
     "data": {
      "image/png": "[encoded data removed]",
      "text/plain": [
       "<Figure size 504x360 with 1 Axes>"
      ]
     },
     "metadata": {
      "needs_background": "light"
     },
     "output_type": "display_data"
    }
   ],
   "source": [
    "plt.figure(figsize=(7, 5))\n",
    "for key in grid_result:\n",
    "    plt.plot(math.log10(key), grid_result[key], marker = 'o')\n",
    "plt.title('hyperparameter tuning')\n",
    "plt.ylabel('loss')\n",
    "plt.xlabel('log(tuning parameter 4)')\n",
    "# plt.ylim((0, 2))\n",
    "plt.show()"
   ]
  },
  {
   "cell_type": "code",
   "execution_count": 9,
   "id": "eecafab0-7256-47ad-a89e-b258c63c2685",
   "metadata": {
    "tags": []
   },
   "outputs": [],
   "source": [
    "# best_para = 4.5\n",
    "best_para = 1e-1"
   ]
  },
  {
   "cell_type": "code",
   "execution_count": null,
   "id": "908e19bc-0c9f-484e-9a79-092a6f82d901",
   "metadata": {},
   "outputs": [],
   "source": [
    "vae = load_model('hyper_tuning/best_model_'+'tuning_'+str(best_para)+'.hdf5')"
   ]
  },
  {
   "cell_type": "code",
   "execution_count": 14,
   "id": "cfd7cac2-ed52-4aac-b611-547638994181",
   "metadata": {
    "tags": []
   },
   "outputs": [],
   "source": [
    "# path to save model output: folder 'model_output' will not be shown on git \n",
    "# repo as the file is large, no need to git it.\n",
    "file = '../model_output/beta_' + str(best_para) + '/'"
   ]
  },
  {
   "cell_type": "code",
   "execution_count": null,
   "id": "bcaa38b4-93be-4206-bff5-3bb2e4bd8e31",
   "metadata": {},
   "outputs": [],
   "source": [
    "# ATTENTION: prediction for test data set 'test_pred' need 421. GiB memory, \n",
    "# ensure have enough space."
   ]
  },
  {
   "cell_type": "code",
   "execution_count": null,
   "id": "14cf4f89-3823-4fe4-b64f-9fcdec8a13e6",
   "metadata": {},
   "outputs": [],
   "source": [
    "# Pred testing data set, prediction results should be in original scale\n",
    "test_pred = np.zeros((1000, target_test.shape[0], target_test.shape[1], target_test.shape[2]))\n",
    "\n",
    "tf.random.set_seed(seed)\n",
    "for i in range(1000):\n",
    "    test_pred[i, :, :, :] = AMOC_scaler.inverse_transform(vae.predict([AMOC_input_test, AMOCindex_input_test, np.zeros(target_test.shape)], verbose = 0))\n",
    "    \n",
    "    if i%100 == 0:\n",
    "        print(i)"
   ]
  },
  {
   "cell_type": "code",
   "execution_count": null,
   "id": "486d174e-4fff-4b04-9479-878afa0dfdbd",
   "metadata": {},
   "outputs": [],
   "source": [
    "# # ATTENTION: prediction for test data set 'test_pred' need 421. GiB memory, \n",
    "# # ensure have enough space.\n",
    "\n",
    "# np.save(file + 'test_pred.npy', test_pred)"
   ]
  },
  {
   "cell_type": "code",
   "execution_count": null,
   "id": "5dd6898c-7a52-481d-b52a-867dca507f75",
   "metadata": {},
   "outputs": [],
   "source": [
    "# # plot some case in testing data set\n",
    "\n",
    "# i = 11000\n",
    "\n",
    "# test_pred_1000 = test_pred[:, i, :, :]\n",
    "# AMOC_input_test_0 = AMOC_scaler.inverse_transform(AMOC_input_test[i, :, :])\n",
    "# AMOCindex_input_test_0 = AMOC_scaler.inverse_transform(AMOCindex_input_test[i, :, :])\n",
    "# target_test_0 = AMOC_scaler.inverse_transform(target_test[i, :, :])\n",
    "\n",
    "# test_pred_1000 = np.squeeze(test_pred_1000)\n",
    "# AMOC_input_test_0 = np.squeeze(AMOC_input_test_0)\n",
    "# AMOCindex_input_test_0 = np.squeeze(AMOCindex_input_test_0)\n",
    "# target_test_0 = np.squeeze(target_test_0)\n",
    "\n",
    "# ### confidence interval ###\n",
    "# test_pred_1000 = np.squeeze(test_pred_1000)\n",
    "# mean = np.mean(test_pred_1000, axis=0)\n",
    "# std = np.std(test_pred_1000, axis=0)\n",
    "# x = np.linspace(1, test_pred_1000.shape[1], test_pred_1000.shape[1])\n",
    "# ci = 1.96 * std\n",
    "\n",
    "# mask = np.array(~AMOC_Obs['Obs'].isna())\n",
    "\n",
    "# foo = plt.figure(figsize=(15, 5))\n",
    "# plt.subplot(2, 1, 1)\n",
    "# plt.tight_layout(pad = 2)\n",
    "# for j in range(6):\n",
    "#     plt.plot(x[mask][j], AMOC_input_test_0[j], c='red', marker='x')\n",
    "# plt.plot(x[mask][6:], AMOC_input_test_0[6:], c='red', label='Observations')\n",
    "# plt.plot(target_test_0, c='blue', label='True mean trend')\n",
    "# plt.plot(mean, c='orange', label='Estimated mean trend')\n",
    "# plt.fill_between(x, (mean-ci), (mean+ci), color='navy', alpha=.2)\n",
    "# plt.ylabel(r'AMOC [Strength (Sv)]')\n",
    "# plt.legend()\n",
    "\n",
    "# plt.subplot(2, 1, 2)\n",
    "# plt.plot(AMOCindex_input_test_0, c='lightgray', label='AMOC index')\n",
    "# plt.ylabel('Temperature ($^\\circ$C)')\n",
    "# plt.legend()\n",
    "\n",
    "# plt.plot()"
   ]
  },
  {
   "cell_type": "code",
   "execution_count": null,
   "id": "7cebc872-2481-426a-bd42-31722127fc8f",
   "metadata": {},
   "outputs": [],
   "source": [
    "# # save some representative testing data case\n",
    "# for i in [0, 1000, 4000, 8000, 10000]:\n",
    "#     np.save(file + 'test_pred_'+str(i)+'.npy', test_pred[:, i, :, :])\n",
    "#     np.save(file + 'AMOC_input_test_'+str(i)+'.npy', AMOC_scaler.inverse_transform(AMOC_input_test[i, :, :]))\n",
    "#     np.save(file + 'AMOCindex_input_test_'+str(i)+'.npy', AMOC_scaler.inverse_transform(AMOCindex_input_test[i, :, :]))\n",
    "#     np.save(file + 'target_test_'+str(i)+'.npy', AMOC_scaler.inverse_transform(target_test[i, :, :]))"
   ]
  },
  {
   "cell_type": "code",
   "execution_count": null,
   "id": "866c76ec-ec06-4367-bfd5-177716a7bea0",
   "metadata": {},
   "outputs": [],
   "source": [
    "### pred Observation data, prediction results should be in original scale ###\n",
    "AMOC_Obs = np.array(AMOC_Obs_std.loc[~AMOC_Obs_std['Obs'].isna(), 'Obs']).reshape((1, -1, 1))\n",
    "AMOC_Obs = AMOC_Obs - AMOC_Obs.mean()\n",
    "\n",
    "AMOCindex_Obs = np.array(AMOCindex_Obs_std[['Obs']]).reshape((1, -1, 1))\n",
    "AMOCindex_Obs = AMOCindex_Obs - AMOCindex_Obs.mean()\n",
    "\n",
    "Obs_pred = np.zeros((1000, target_test.shape[1], target_test.shape[2]))\n",
    "\n",
    "tf.random.set_seed(seed)\n",
    "for i in range(1000):\n",
    "    Obs_pred_0 = AMOC_scaler.inverse_transform(vae.predict([AMOC_Obs, AMOCindex_Obs, np.zeros((1, target_test.shape[1], target_test.shape[2]))], verbose = 0))\n",
    "    Obs_pred[i, :, :] = np.squeeze(Obs_pred_0, axis = 0)"
   ]
  },
  {
   "cell_type": "code",
   "execution_count": null,
   "id": "44844e9d-6a3d-4be6-8731-23cd83303ed6",
   "metadata": {
    "tags": []
   },
   "outputs": [],
   "source": [
    "# np.save(file + 'Obs_pred.npy', Obs_pred)"
   ]
  },
  {
   "cell_type": "code",
   "execution_count": null,
   "id": "01b70020-44da-495b-a2cb-1ca83303aa99",
   "metadata": {},
   "outputs": [],
   "source": [
    "# Get emp_prob: for each testing data set, find confidence interval from 1,000 trails prediction generated from vae, check if target value is in constructed confidence interval. \n",
    "# The ideal empircal probability should be 0.95 as we are constructing 95% CI.\n",
    "# Calculate bias #\n",
    "\n",
    "emp_prob = np.zeros((len(target_test), )) # len(target_test): 33,600\n",
    "test_bias = np.zeros((len(target_test), target_test.shape[1]))\n",
    "\n",
    "for i in range(len(target_test)):\n",
    "    sequence_test_pred_1000 = np.squeeze(test_pred[:, i, :, :])\n",
    "    mean = np.mean(sequence_test_pred_1000, axis=0)\n",
    "    std = np.std(sequence_test_pred_1000, axis=0)\n",
    "    ci = 1.96 * std\n",
    "    lower = mean - ci\n",
    "    upper = mean + ci\n",
    "    target = np.squeeze(AMOC_scaler.inverse_transform(target_test[i, :, :]))\n",
    "    count = sum((target >= lower) & (target <= upper))\n",
    "    emp_prob[i] = count/target_test.shape[1]\n",
    "    \n",
    "    bias = target - mean\n",
    "    test_bias[i, :] = bias"
   ]
  },
  {
   "cell_type": "code",
   "execution_count": null,
   "id": "0403b4fe-5e47-4522-839b-86d71da24897",
   "metadata": {},
   "outputs": [],
   "source": [
    "# np.save(file + 'emp_prob.npy', emp_prob)\n",
    "# np.save(file + 'test_bias.npy', test_bias)"
   ]
  }
 ],
 "metadata": {
  "kernelspec": {
   "display_name": "Python 3.7 (Conda 2019.10) [python/3.7-2019.10]",
   "language": "python",
   "name": "python37_201910"
  },
  "language_info": {
   "codemirror_mode": {
    "name": "ipython",
    "version": 3
   },
   "file_extension": ".py",
   "mimetype": "text/x-python",
   "name": "python",
   "nbconvert_exporter": "python",
   "pygments_lexer": "ipython3",
   "version": "3.7.4"
  }
 },
 "nbformat": 4,
 "nbformat_minor": 5
}
