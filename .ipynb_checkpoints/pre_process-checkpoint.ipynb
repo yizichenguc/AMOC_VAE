{
 "cells": [
  {
   "cell_type": "code",
   "execution_count": 1,
   "id": "5eb9e796-25b6-44ee-a759-94a05282e2d6",
   "metadata": {},
   "outputs": [],
   "source": [
    "import scipy.io\n",
    "from scipy.io import netcdf\n",
    "import os\n",
    "import random\n",
    "import numpy as np\n",
    "import pandas as pd\n",
    "import matplotlib.pyplot as plt"
   ]
  },
  {
   "cell_type": "markdown",
   "id": "99e63355-8cfc-4a62-91de-19263082ba6d",
   "metadata": {},
   "source": [
    "# Pre-processing for AMOC ensemble data"
   ]
  },
  {
   "cell_type": "code",
   "execution_count": 2,
   "id": "170c1fb2-35fe-4eaf-b01c-102845a3747a",
   "metadata": {},
   "outputs": [],
   "source": [
    "# print(os.getcwd())\n",
    "# os.chdir('~')"
   ]
  },
  {
   "cell_type": "code",
   "execution_count": 3,
   "id": "49ed8b89-1e52-4cef-a658-df098e90dc35",
   "metadata": {
    "tags": []
   },
   "outputs": [],
   "source": [
    "# data_PD.variables.keys()\n",
    "# data_Ensemble.variables.keys()\n",
    "\n",
    "# time_PD=data_PD.variables['time'][:]*1\n",
    "# time_Ensemble=data_Ensemble.variables['time'][:]*1\n",
    "\n",
    "# from datetime import datetime\n",
    "# datetime.fromordinal(int(time_PD[0])).strftime('%b-%d-%Y')"
   ]
  },
  {
   "cell_type": "code",
   "execution_count": 4,
   "id": "d6a488a5-5afa-4727-8c07-8c3faa22f6de",
   "metadata": {},
   "outputs": [],
   "source": [
    "# NetCDF is a file format for storing multidimensional scientific data, \n",
    "# such as humidity, temperature, pressure, wind speed, and direction.\n",
    "data_PD_nc = netcdf.NetCDFFile('input_data/AMOC267_MAX_PD_monthly.nc')\n",
    "data_Ensemble_nc = netcdf.NetCDFFile('input_data/AMOC267_MAX_ENSEMBLE_monthly.nc')"
   ]
  },
  {
   "cell_type": "code",
   "execution_count": 5,
   "id": "20466200-a594-4f0e-875e-45c4125616ed",
   "metadata": {},
   "outputs": [],
   "source": [
    "# data_PD: present-day run from CESM, 899 years from year 501 to year 1400 \n",
    "# (899*12 = 10788 data points)\n",
    "data_PD = data_PD_nc.variables['AMOC'][:]*1\n",
    "\n",
    "# data_Ensemble: CESM run for scenario period, 499 years from year 2001 to 2500\n",
    "# (499*12 = 5988 data points). Different ensemble runs shows a sample to diverse climate\n",
    "# change scenarios.\n",
    "data_Ensemble = data_Ensemble_nc.variables['AMOC'][:]*1"
   ]
  },
  {
   "cell_type": "code",
   "execution_count": 6,
   "id": "a1f0bdea-5a99-451e-b687-d8bc068aa8f1",
   "metadata": {},
   "outputs": [
    {
     "name": "stdout",
     "output_type": "stream",
     "text": [
      "(1, 10788)\n",
      "(28, 5988)\n"
     ]
    }
   ],
   "source": [
    "print(data_PD.shape)\n",
    "print(data_Ensemble.shape)"
   ]
  },
  {
   "cell_type": "code",
   "execution_count": 7,
   "id": "af6eedd1-f821-4753-a513-ace7de813840",
   "metadata": {},
   "outputs": [],
   "source": [
    "# define a function to standardize date-time format to 'YYYY-MM' (month number zero-padded)\n",
    "def lambda_fun(a, b):\n",
    "    if b >= 10:\n",
    "        return str(a) + '-' + str(b)\n",
    "    else:\n",
    "        return str(a) + '-' + '0' + str(b)"
   ]
  },
  {
   "cell_type": "code",
   "execution_count": 8,
   "id": "d2a78aa3-a9a2-49e5-8750-deafb5d3bde9",
   "metadata": {},
   "outputs": [],
   "source": [
    "# create column to represent date_time info for PD run, create PD data frame\n",
    "Time_PD = [lambda_fun(i, j) for i in range(501, 1400) for j in range(1, 13)]\n",
    "\n",
    "data = {'datetime': Time_PD, 'PD': data_PD[0,:]}\n",
    "data_PD = pd.DataFrame(data)"
   ]
  },
  {
   "cell_type": "code",
   "execution_count": 9,
   "id": "45a0e2c4-cbca-4128-bfcd-953f61d735b6",
   "metadata": {},
   "outputs": [],
   "source": [
    "# create column to represent date_time info for ensemble run, create ensemble data frame\n",
    "Time_Ensemble = [lambda_fun(i, j) for i in range(2001, 2500) for j in range(1, 13)]\n",
    "\n",
    "Ensemble = {'datetime': Time_Ensemble}\n",
    "for i in range(1,29):\n",
    "    Ensemble[i] = data_Ensemble[i-1, :]\n",
    "\n",
    "data_Ensemble = pd.DataFrame(Ensemble)"
   ]
  },
  {
   "cell_type": "code",
   "execution_count": 10,
   "id": "8f68cf98-1578-4b2d-9f62-a7a4d2e72e7b",
   "metadata": {},
   "outputs": [],
   "source": [
    "# # plot 28 ensemble runs\n",
    "# plt.plot(figsize=(20, 5))\n",
    "# for i in range(28):\n",
    "#     plt.plot(data_Ensemble.iloc[:,i+1], color='red', linewidth=0.1)"
   ]
  },
  {
   "cell_type": "code",
   "execution_count": 11,
   "id": "f1b8a33d-1673-45f0-b443-5fa95bebb57a",
   "metadata": {},
   "outputs": [],
   "source": [
    "# get AMOC monthly mean from PD, use PD monthly mean to de-trend Ensemble data seasonality\n",
    "PD_month_mean = data_PD.groupby(by = data_PD['datetime'].str[-2:])['PD'].mean().reset_index(name = 'mean')\n",
    "\n",
    "dtdata_Ensemble = []\n",
    "\n",
    "# group by month\n",
    "for name, group in data_Ensemble.groupby(by = data_Ensemble['datetime'].str[-2:]):\n",
    "    month_mean = PD_month_mean.loc[PD_month_mean['datetime'] == name, 'mean'].values\n",
    "    # make month_mean a scaler\n",
    "    new_group = group.copy()\n",
    "    new_group.loc[:, list(range(1, 29))] = group.loc[:, list(range(1, 29))] - month_mean[0]\n",
    "    dtdata_Ensemble.append(new_group)\n",
    "    \n",
    "dtdata_Ensemble = pd.concat(dtdata_Ensemble)\n",
    "dtdata_Ensemble = dtdata_Ensemble.sort_index()"
   ]
  },
  {
   "cell_type": "code",
   "execution_count": 12,
   "id": "dcafa642-c4d9-409c-9d87-2d29ce058a94",
   "metadata": {},
   "outputs": [],
   "source": [
    "# # plot 28 ensemble runs for de-trend data\n",
    "# plt.plot(figsize=(20, 5))\n",
    "# for i in range(1,29):\n",
    "#     plt.plot(data_Ensemble.loc[:,i], color='red', linewidth=0.1)"
   ]
  },
  {
   "cell_type": "code",
   "execution_count": 13,
   "id": "a3b88934-68ea-4bbf-ba9c-c930f975cc82",
   "metadata": {},
   "outputs": [],
   "source": [
    "dtdata_Ensemble.to_csv('input_data/dtdata_AMOC_Ensemble.csv')"
   ]
  },
  {
   "cell_type": "markdown",
   "id": "f8f5fd17-387f-4f65-863e-2dcd1e7afe80",
   "metadata": {},
   "source": [
    "# Pre-processing for AMOC_index ensemble data"
   ]
  },
  {
   "cell_type": "code",
   "execution_count": 14,
   "id": "4b255531-c7bc-4697-9fed-4f6fafa123f5",
   "metadata": {},
   "outputs": [],
   "source": [
    "####Ensemble AMOC_index Data##############################################################\n",
    "\n",
    "# data_Ensemble: CESM run for scenario period, 499 years from year 2001 to 2500\n",
    "# (499*12 = 5988 data points). Different ensemble runs shows a sample to diverse climate\n",
    "# change scenarios.\n",
    "Time_Ensemble = [lambda_fun(i, j) for i in range(2001, 2500) for j in range(1, 13)]\n",
    "\n",
    "data = [pd.DataFrame({'datetime': Time_Ensemble})]\n",
    "for i in range(1, 29):\n",
    "    file = 'input_data/AMOC_index/ENSEMBLE_r' + str(i) + '.txt'\n",
    "    a = pd.read_csv(file, sep=' ', header=None, names = [i])\n",
    "    data.append(a)\n",
    "\n",
    "data_Ensemble = pd.concat(data, axis = 1)"
   ]
  },
  {
   "cell_type": "code",
   "execution_count": 15,
   "id": "4c7b9654-d9d7-4514-890f-be5f32ae0e49",
   "metadata": {},
   "outputs": [],
   "source": [
    "######demean Ensemble with PD monthly mean#####################################################\n",
    "Time_PD = [lambda_fun(i, j) for i in range(501, 1400) for j in range(1, 13)]\n",
    "\n",
    "# PD: present-day monthly run from CESM, 899 years from year 501 to year 1400 \n",
    "# (899*12 = 10788 data points)\n",
    "\n",
    "PD = pd.read_csv('input_data/AMOC_index/PD_r1.txt', sep=' ', header=None, names = ['PD'])\n",
    "Time_PD = pd.DataFrame({'datetime': Time_PD})\n",
    "data_PD = pd.concat([Time_PD, PD], axis = 1)\n",
    "\n",
    "# get AMOC_index monthly mean for PD, use PD monthly mean to de-trend ensemble data seasonality\n",
    "PD_month_mean = data_PD.groupby(by = data_PD['datetime'].str[-2:])['PD'].mean().reset_index(name = 'mean')\n",
    "\n",
    "dtdata_Ensemble = []\n",
    "\n",
    "# group by month\n",
    "for name, group in data_Ensemble.groupby(by = data_Ensemble['datetime'].str[-2:]):\n",
    "    month_mean = PD_month_mean.loc[PD_month_mean['datetime'] == name, 'mean'].values\n",
    "    # make month_mean a scaler\n",
    "    new_group = group.copy()\n",
    "    new_group.loc[:, list(range(1, 29))] = group.loc[:, list(range(1, 29))] - month_mean[0]\n",
    "    dtdata_Ensemble.append(new_group)\n",
    "    \n",
    "dtdata_Ensemble = pd.concat(dtdata_Ensemble)\n",
    "dtdata_Ensemble = dtdata_Ensemble.sort_index()"
   ]
  },
  {
   "cell_type": "code",
   "execution_count": 16,
   "id": "3b0f4651-37dd-4286-ab44-b186876240c5",
   "metadata": {},
   "outputs": [],
   "source": [
    "dtdata_Ensemble.to_csv('input_data/dtdata_AMOCindex_Ensemble.csv')"
   ]
  },
  {
   "cell_type": "markdown",
   "id": "aacef2db-d9f6-4c54-8164-a92bf7c40486",
   "metadata": {},
   "source": [
    "# Pre-processing for AMOC observation data"
   ]
  },
  {
   "cell_type": "code",
   "execution_count": 17,
   "id": "c5a110ed-71bc-410e-b04c-e958953fc891",
   "metadata": {},
   "outputs": [],
   "source": [
    "AMOC_model = scipy.io.loadmat('input_data/AMOC_model.mat')\n",
    "\n",
    "##### Obs data: get monthly data, detrend monthly mean ##################################\n",
    "\n",
    "# sub-daily data from the RAPID AMOC project, spanning from \n",
    "# Apr-2004 through Sep-2018 (10535 data points in total).\n",
    "data_Obs = {'datetime': AMOC_model['Time_Obs'], 'Obs': AMOC_model['MOC_mar_hc10'].reshape((10535,))}\n",
    "data_Obs = pd.DataFrame(data_Obs)\n",
    "\n",
    "data_Obs.loc[data_Obs['Obs'] == -99999, 'Obs'] = np.nan\n",
    "data_Obs['datetime'] = pd.to_datetime(data_Obs['datetime']).dt.strftime('%Y-%m')\n",
    "\n",
    "# Aggregate sub-daily data to monthly.\n",
    "data_Obs_agg = data_Obs.groupby(by = 'datetime', as_index = False)['Obs'].mean()\n",
    "\n",
    "# create an empty dataframe w.r.t. AMOC_index observation data time range: 1880-Jan to 2019-Dec\n",
    "# insert six observation data from Kanzow et al. (2010) : taken in Oct-1957, Aug-1981, \n",
    "# Sep-1981, Jul-1992, Aug-1992, and Feb-1998\n",
    "pre_data = [[lambda_fun(i, j), np.nan] for i in range(1880, 2020) for j in range(1, 13)]\n",
    "pre_data = pd.DataFrame(pre_data, columns=['datetime', 'Obs'])\n",
    "\n",
    "pre_data.loc[pre_data['datetime'] == '1957-10', 'Obs'] = 20.1\n",
    "pre_data.loc[pre_data['datetime'] == '1981-08', 'Obs'] = 17.3\n",
    "pre_data.loc[pre_data['datetime'] == '1981-09', 'Obs'] = 17.3\n",
    "pre_data.loc[pre_data['datetime'] == '1992-07', 'Obs'] = 18.5\n",
    "pre_data.loc[pre_data['datetime'] == '1992-08', 'Obs'] = 18.5\n",
    "pre_data.loc[pre_data['datetime'] == '1998-02', 'Obs'] = 18.1\n",
    "\n",
    "index_list = pre_data[pre_data['datetime'].isin(data_Obs_agg['datetime'])].sort_values(by = 'datetime').index\n",
    "pre_data.loc[index_list, 'Obs'] = data_Obs_agg['Obs'].values\n",
    "\n",
    "# detrend with monthly mean\n",
    "pre_data['Obs'] = pre_data.groupby(by = pre_data['datetime'].str[-2:])['Obs'].transform(lambda x: x - x.mean())"
   ]
  },
  {
   "cell_type": "code",
   "execution_count": 18,
   "id": "71d6f421-f43a-4962-8818-1caab23da04d",
   "metadata": {},
   "outputs": [],
   "source": [
    "pre_data.to_csv('input_data/dtdata_AMOC_Obs.csv')"
   ]
  },
  {
   "cell_type": "markdown",
   "id": "526cb3ba-85a2-4b13-9ef1-6e140d68527c",
   "metadata": {},
   "source": [
    "# Pre-processing for AMOC_index observation data"
   ]
  },
  {
   "cell_type": "code",
   "execution_count": 19,
   "id": "9529f393-ba9a-4e24-8cd4-ee97888182dd",
   "metadata": {
    "tags": []
   },
   "outputs": [],
   "source": [
    "####Obs AMOC_index Data##############################################################################\n",
    "Time_Obs = [lambda_fun(i, j) for i in range(1880, 2020) for j in range(1, 13)]\n",
    "\n",
    "Obs = pd.read_csv('input_data/AMOC_index/obs_r1.txt', sep=' ', header=None, names = ['Obs'])\n",
    "Time_Obs = pd.DataFrame({'datetime': Time_Obs})\n",
    "data_Obs = pd.concat([Time_Obs, Obs], axis = 1)\n",
    "\n",
    "# de-mean with observation mean\n",
    "data_Obs['Obs'] = data_Obs.groupby(by = data_Obs['datetime'].str[-2:])['Obs'].transform(lambda x: x - x.mean())"
   ]
  },
  {
   "cell_type": "code",
   "execution_count": 20,
   "id": "d1fc2019-fc73-48a4-9069-8c4b5059fe53",
   "metadata": {},
   "outputs": [],
   "source": [
    "data_Obs.to_csv('input_data/dtdata_AMOCindex_Obs.csv')"
   ]
  }
 ],
 "metadata": {
  "kernelspec": {
   "display_name": "Python 3.7 (Conda 2019.10) [python/3.7-2019.10]",
   "language": "python",
   "name": "python37_201910"
  },
  "language_info": {
   "codemirror_mode": {
    "name": "ipython",
    "version": 3
   },
   "file_extension": ".py",
   "mimetype": "text/x-python",
   "name": "python",
   "nbconvert_exporter": "python",
   "pygments_lexer": "ipython3",
   "version": "3.7.4"
  }
 },
 "nbformat": 4,
 "nbformat_minor": 5
}
