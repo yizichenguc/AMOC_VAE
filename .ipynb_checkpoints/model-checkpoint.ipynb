{
 "cells": [
  {
   "cell_type": "code",
   "execution_count": 2,
   "id": "9a37fe55-82d9-48a8-ad38-2832b4889e10",
   "metadata": {},
   "outputs": [],
   "source": [
    "import os\n",
    "import json\n",
    "import random\n",
    "import numpy as np\n",
    "import pandas as pd\n",
    "import math\n",
    "import matplotlib\n",
    "import matplotlib.pyplot as plt\n",
    "\n",
    "from sklearn.model_selection import train_test_split\n",
    "from sklearn.metrics import mean_squared_error as mse\n",
    "from sklearn.neighbors import KernelDensity\n",
    "\n",
    "import tensorflow as tf\n",
    "from tensorflow.keras.layers import *\n",
    "from tensorflow.keras.models import *\n",
    "from tensorflow.keras.optimizers import *\n",
    "from tensorflow.keras import backend as K\n",
    "from tensorflow.keras.callbacks import EarlyStopping\n",
    "from tensorflow.keras.callbacks import ModelCheckpoint"
   ]
  },
  {
   "cell_type": "code",
   "execution_count": 3,
   "id": "2d287124-145e-4d2f-9ad9-f7dda8da2994",
   "metadata": {},
   "outputs": [
    {
     "data": {
      "text/plain": [
       "['              total        used        free      shared  buff/cache   available',\n",
       " 'Mem:        3094907       41427     3044622        1627        8857     3049515',\n",
       " 'Swap:         49151           0       49151']"
      ]
     },
     "execution_count": 3,
     "metadata": {},
     "output_type": "execute_result"
    }
   ],
   "source": [
    "%system free -m"
   ]
  },
  {
   "cell_type": "code",
   "execution_count": 4,
   "id": "73787f9c-4f0d-487c-8555-a787ac8bc658",
   "metadata": {},
   "outputs": [
    {
     "name": "stdout",
     "output_type": "stream",
     "text": [
      "the RANGE of AMOC observation is 140\n"
     ]
    }
   ],
   "source": [
    "#######################################################\n",
    "# Define important input paramaters####################\n",
    "# define the target AMOC range#########################\n",
    "#######################################################\n",
    "\n",
    "AMOC_range = 140\n",
    "\n",
    "print('the RANGE of AMOC observation is', AMOC_range)"
   ]
  },
  {
   "cell_type": "code",
   "execution_count": 11,
   "id": "ac5cebcf-1efa-4ba5-a4fe-b699f4a87784",
   "metadata": {},
   "outputs": [
    {
     "name": "stdout",
     "output_type": "stream",
     "text": [
      "AMOC_140_years/\n"
     ]
    }
   ],
   "source": [
    "#######################################################\n",
    "# Define important file daving path####################\n",
    "#######################################################\n",
    "#######################################################\n",
    "\n",
    "path_str = 'AMOC_'+str(AMOC_range)+'_years/'\n",
    "print(path_str)\n",
    "\n",
    "# Input data load path\n",
    "input_file = 'input_data/'+path_str\n",
    "\n",
    "# Hyper-parameter tuning data saving path\n",
    "# hyper_path = 'hyper_tuning/'+path_str\n",
    "hyper_path = 'hyper_tuning/'+path_str+'new_seed_0/'\n",
    "\n",
    "# large output data saving path\n",
    "# outDATA_path = '../model_output/'+path_str\n",
    "outDATA_path = '../model_output/'+path_str+'new_seed_0/'\n",
    "\n",
    "# folder 'new_seed_0': data generation seed and tensorflow seed all set to 10\n",
    "# folder 'new_seed_1': data generation seed and tensorflow seed all set to 4"
   ]
  },
  {
   "cell_type": "code",
   "execution_count": 6,
   "id": "94f1a5f6-e720-4f0a-aba1-a5bfc164ab72",
   "metadata": {},
   "outputs": [
    {
     "data": {
      "text/plain": [
       "[]"
      ]
     },
     "execution_count": 6,
     "metadata": {},
     "output_type": "execute_result"
    },
    {
     "data": {
      "image/png": "[encoded data removed]",
      "text/plain": [
       "<Figure size 432x288 with 1 Axes>"
      ]
     },
     "metadata": {
      "needs_background": "light"
     },
     "output_type": "display_data"
    }
   ],
   "source": [
    "# change font size plt, need to run two times for old version matplotlib :)\n",
    "\n",
    "# check: https://matplotlib.org/stable/api/matplotlib_configuration_api.html#matplotlib.rcParams for systematically change plot format\n",
    "# font = {'size': 12}\n",
    "plt.rcParams.update({'font.size':16, 'legend.fontsize':12})\n",
    "plt.plot()"
   ]
  },
  {
   "cell_type": "code",
   "execution_count": 7,
   "id": "14c4f592-5401-4907-ba70-516f2fb73d15",
   "metadata": {},
   "outputs": [
    {
     "data": {
      "text/plain": [
       "[]"
      ]
     },
     "execution_count": 7,
     "metadata": {},
     "output_type": "execute_result"
    },
    {
     "data": {
      "image/png": "[encoded data removed]",
      "text/plain": [
       "<Figure size 432x288 with 1 Axes>"
      ]
     },
     "metadata": {
      "needs_background": "light"
     },
     "output_type": "display_data"
    }
   ],
   "source": [
    "plt.rcParams.update({'font.size':16, 'legend.fontsize':12})\n",
    "plt.plot()"
   ]
  },
  {
   "cell_type": "code",
   "execution_count": 8,
   "id": "6bcad3a7-761a-40b0-bccd-f1809d988697",
   "metadata": {},
   "outputs": [],
   "source": [
    "# os.getcwd()"
   ]
  },
  {
   "cell_type": "code",
   "execution_count": 9,
   "id": "cfe99622-842b-4d2a-b3d4-c6316c12ace8",
   "metadata": {},
   "outputs": [
    {
     "name": "stdout",
     "output_type": "stream",
     "text": [
      "AMOC observation data shape: (1680, 2)\n",
      "AMOC index observation data shape: (1680, 2)\n",
      "AMOC Ensemble data shape: (5988, 29)\n",
      "AMOC index Ensemble data shape: (5988, 29)\n"
     ]
    }
   ],
   "source": [
    "# load data\n",
    "AMOC_Obs = pd.read_csv(input_file+'dtdata_AMOC_Obs.csv', index_col = 0)\n",
    "AMOC_Ensemble = pd.read_csv(input_file+'dtdata_AMOC_Ensemble.csv', index_col = 0)\n",
    "\n",
    "AMOCindex_Obs = pd.read_csv(input_file+'dtdata_AMOCindex_Obs.csv', index_col = 0)\n",
    "AMOCindex_Ensemble = pd.read_csv(input_file+'dtdata_AMOCindex_Ensemble.csv', index_col = 0)\n",
    "\n",
    "print('AMOC observation data shape:', AMOC_Obs.shape)\n",
    "print('AMOC index observation data shape:', AMOCindex_Obs.shape)\n",
    "\n",
    "print('AMOC Ensemble data shape:', AMOC_Ensemble.shape)\n",
    "print('AMOC index Ensemble data shape:', AMOCindex_Ensemble.shape)"
   ]
  },
  {
   "cell_type": "code",
   "execution_count": 10,
   "id": "c5f68d84-998a-49b6-80e3-91a64e10e5dd",
   "metadata": {},
   "outputs": [],
   "source": [
    "# Define a debug function to check if data is proper scaled\n",
    "def debug(original_data, scaled_data, scaler):\n",
    "    total_cnt = np.array([1])\n",
    "    for num in original_data.shape:\n",
    "        total_cnt *= num\n",
    "    result = np.sum(np.absolute(original_data - scaler.inverse_transform(scaled_data)) < 1e-5) == total_cnt\n",
    "    return result[0]"
   ]
  },
  {
   "cell_type": "code",
   "execution_count": 12,
   "id": "76c3c3f7-401d-4640-8cae-53ba0a46f1d4",
   "metadata": {},
   "outputs": [
    {
     "name": "stdout",
     "output_type": "stream",
     "text": [
      "Shape of Input: AMOC is (168000, 179, 1)\n",
      "Shape of Input: AMOC_index is (168000, 1680, 1)\n",
      "Shape of Target is (168000, 1680, 1)\n",
      "Size of train/validation/test data set: (100800, 33600, 33600)\n",
      "AMOC Training data min/max: -20.656806642413407 10.905970774860343\n",
      "AMOC Validation data min/max: -20.656806642413407 11.259880250279327\n",
      "AMOC Testing data min/max: -20.656806642413407 10.881210255865927\n",
      "AMOC_index Training data min/max: -6.54510412579784 6.789500768249779\n",
      "AMOC_index Validation data min/max: -6.536294934131173 6.778108196225968\n",
      "AMOC_index Testing data min/max: -6.528085148416888 6.785845828368826\n"
     ]
    }
   ],
   "source": [
    "######################################################################################\n",
    "#############PRE-PROCESSING###########################################################\n",
    "######################################################################################\n",
    "\n",
    "# # set seed\n",
    "\n",
    "# tf.random.set_seed(seed)\n",
    "# os.environ['PYTHONHASHSEED'] = str(seed)\n",
    "# np.random.seed(seed)\n",
    "# random.seed(seed)\n",
    "\n",
    "# original\n",
    "# seed = 1\n",
    "\n",
    "# new_seed_0 files\n",
    "seed = 10\n",
    "\n",
    "# new_seed_1 files\n",
    "# seed = 4\n",
    "\n",
    "# # Set the seed using keras.utils.set_random_seed. This will set:\n",
    "# # 1) `numpy` seed\n",
    "# # 2) backend random seed\n",
    "# # 3) `python` random seed\n",
    "# tf.keras.utils.set_random_seed(seed)\n",
    "\n",
    "# # If using TensorFlow, this will make GPU ops as deterministic as possible,\n",
    "# # but it will affect the overall performance, so be mindful of that.\n",
    "# tf.config.experimental.enable_op_determinism()\n",
    "\n",
    "# Generate input data to use in DVAE\n",
    "\n",
    "AMOC = np.array(AMOC_Ensemble[[str(i) for i in range(1, 29)]])\n",
    "AMOC_index = np.array(AMOCindex_Ensemble[[str(i) for i in range(1, 29)]])\n",
    "\n",
    "Ensemble_length = AMOC.shape[0]\n",
    "Obs_length = len(AMOC_Obs)\n",
    "mask = np.array(~AMOC_Obs['Obs'].isna()) # non-missing part in observation data\n",
    "\n",
    "# Randomly sample thousands of different long term time segments from 499 years (5,988 data points) Ensemble data; for each time segment,\n",
    "# there will be 28 different training examples.\n",
    "\n",
    "# num_select = (Ensemble_length - Obs_length) // 1000 *1000\n",
    "num_select = 6000\n",
    "\n",
    "# start_list: List of start index of time segments from Ensemble data.\n",
    "np.random.seed(seed)\n",
    "\n",
    "# start_list = np.random.choice(Ensemble_length - Obs_length, num_select, replace=False)\n",
    "start_list = [np.random.randint(0, Ensemble_length - Obs_length) for i in range(num_select)] # with replacement bootstrapping\n",
    "\n",
    "# AMOC_input: AMOC data corresponding to observation non-miss part.\n",
    "# AMOCindex_input: AMOC Index data with same time segment corresponding to AMOC\n",
    "# target: AMOC long term trend, generated from 2-degree polynomial fitting of 28 Ensemble trails to filter out nature variability.\n",
    "AMOC_input = []\n",
    "AMOCindex_input = []\n",
    "target = []\n",
    "\n",
    "for start in start_list:\n",
    "    AMOC_seg = AMOC[start:(start + Obs_length), :] # Obs_length * 28\n",
    "    AMOC_seg_masked = AMOC_seg[mask, :] # 179 * 28 (non-missing part length * 28)\n",
    "    \n",
    "    # De-mean AMOC data with mean of non-missing part data, which corresponding to real-world data: only non-missing part is known.\n",
    "    mean = AMOC_seg_masked.mean(axis = 0)\n",
    "    AMOC_seg = AMOC_seg - mean\n",
    "    AMOC_seg_masked = AMOC_seg_masked - mean\n",
    "\n",
    "    # Fit 2-degree polynomial with 28 ensemble trails\n",
    "    x = np.array(range(Obs_length))\n",
    "    # ploy: Polynomial coefficients, highest power first.\n",
    "    poly = np.polyfit(x.repeat(AMOC_seg.shape[1]), AMOC_seg.flatten(), 2)\n",
    "    y = x**2 * poly[0] + x * poly[1] + poly[2]\n",
    "    y = np.reshape(y, (y.shape[0], 1)) # Obs_length * 1\n",
    "    y = y.repeat(AMOC_seg.shape[1], axis = 1) # Obs_length * 28\n",
    "    \n",
    "    # De-mean AMOC index data.\n",
    "    AMOCindex_seg = AMOC_index[start:(start + Obs_length), :]\n",
    "    \n",
    "    mean = AMOCindex_seg.mean(axis = 0)\n",
    "    AMOCindex_seg = AMOCindex_seg - mean\n",
    "\n",
    "    # Reshape data to (number of trails, number of timesteps, dimension)\n",
    "    AMOC_seg_masked = np.reshape(np.ravel(AMOC_seg_masked, order = 'F'), (AMOC_seg_masked.shape[1], AMOC_seg_masked.shape[0], 1))\n",
    "    AMOCindex_seg = np.reshape(np.ravel(AMOCindex_seg, order = 'F'), (AMOCindex_seg.shape[1], AMOCindex_seg.shape[0], 1))\n",
    "    y = np.reshape(np.ravel(y, order = 'F'), (y.shape[1], y.shape[0], 1))\n",
    "    \n",
    "    AMOC_input.append(AMOC_seg_masked)\n",
    "    AMOCindex_input.append(AMOCindex_seg)\n",
    "    target.append(y)\n",
    "    \n",
    "AMOC_input = np.vstack(AMOC_input)\n",
    "AMOCindex_input = np.vstack(AMOCindex_input)\n",
    "target = np.vstack(target)\n",
    "\n",
    "print('Shape of Input: AMOC is', AMOC_input.shape)\n",
    "print('Shape of Input: AMOC_index is', AMOCindex_input.shape)\n",
    "print('Shape of Target is', target.shape)\n",
    "\n",
    "### TRAIN VALIDATION TEST SPLIT : 0.6/0.2/0.2\n",
    "\n",
    "# AMOC_input_train, AMOC_input_test = tf.split(\n",
    "#     tf.random.shuffle(AMOC_input, seed = seed), [AMOC_input.shape[0] * 0.8, AMOC_input.shape[0] * 0.2], axis=0\n",
    "# )\n",
    "\n",
    "# TRAIN TEST SPLIT: 0.8/0.2\n",
    "AMOC_input_train, AMOC_input_test, AMOCindex_input_train, AMOCindex_input_test, target_train, target_test = train_test_split(AMOC_input, AMOCindex_input, target, test_size=0.2, random_state=seed, shuffle=False)\n",
    "\n",
    "# TRAIN VALIDATION SPLIT with TRAIN: 0.75/0.25\n",
    "AMOC_input_train, AMOC_input_val, AMOCindex_input_train, AMOCindex_input_val, target_train, target_val = train_test_split(AMOC_input_train, AMOCindex_input_train, target_train, test_size=0.25, random_state=seed, shuffle=False)\n",
    "\n",
    "print('Size of train/validation/test data set:', (AMOC_input_train.shape[0], AMOC_input_val.shape[0], AMOC_input_test.shape[0]))\n",
    "\n",
    "print('AMOC Training data min/max:', np.min(AMOC_input_train), np.max(AMOC_input_train))\n",
    "print('AMOC Validation data min/max:', np.min(AMOC_input_val), np.max(AMOC_input_val))\n",
    "print('AMOC Testing data min/max:', np.min(AMOC_input_test), np.max(AMOC_input_test))\n",
    "\n",
    "print('AMOC_index Training data min/max:', np.min(AMOCindex_input_train), np.max(AMOCindex_input_train))\n",
    "print('AMOC_index Validation data min/max:', np.min(AMOCindex_input_val), np.max(AMOCindex_input_val))\n",
    "print('AMOC_index Testing data min/max:', np.min(AMOCindex_input_test), np.max(AMOCindex_input_test))\n",
    "\n",
    "# Scaling train/validation/test data according to training data set to prevent information lekage\n",
    "\n",
    "# Define a class\n",
    "class Scaler:\n",
    "    def __init__(self, train_data):\n",
    "        self.min = np.min(train_data)\n",
    "        self.max = np.max(train_data)\n",
    "    \n",
    "    def transform(self, X):\n",
    "        return (X - self.min) / (self.max - self.min)\n",
    "    \n",
    "    def inverse_transform(self, X):\n",
    "        return X * (self.max - self.min) + self.min\n",
    "\n",
    "# Create scaled data for AMOC\n",
    "AMOC_scaler = Scaler(AMOC_input_train)\n",
    "\n",
    "AMOC_input_train_scaled = AMOC_scaler.transform(AMOC_input_train)\n",
    "AMOC_input_val_scaled = AMOC_scaler.transform(AMOC_input_val)\n",
    "AMOC_input_test_scaled = AMOC_scaler.transform(AMOC_input_test)\n",
    "\n",
    "target_train_scaled = AMOC_scaler.transform(target_train)\n",
    "target_val_scaled = AMOC_scaler.transform(target_val)\n",
    "target_test_scaled = AMOC_scaler.transform(target_test)\n",
    "\n",
    "# Create scaled data for AMOC_index\n",
    "AMOCindex_scaler = Scaler(AMOCindex_input_train)\n",
    "\n",
    "AMOCindex_input_train_scaled = AMOCindex_scaler.transform(AMOCindex_input_train)\n",
    "AMOCindex_input_val_scaled = AMOCindex_scaler.transform(AMOCindex_input_val)\n",
    "AMOCindex_input_test_scaled = AMOCindex_scaler.transform(AMOCindex_input_test)\n",
    "\n",
    "# A debugger to test if scaler works right\n",
    "assert debug(AMOC_input_train, AMOC_input_train_scaled, AMOC_scaler)"
   ]
  },
  {
   "cell_type": "code",
   "execution_count": 13,
   "id": "56a917c8-eb56-4dd8-b107-246f2a3e9af3",
   "metadata": {},
   "outputs": [],
   "source": [
    "### UTILITY FUNCTIONS FOR VAE CREATION ###\n",
    "\n",
    "def sampling(args):\n",
    "    # z_log_sigma: log sigma^2, this way could guarantee sigma^2 to be positive\n",
    "    z_mean, z_log_sigma = args\n",
    "    batch_size = tf.shape(z_mean)[0]\n",
    "    epsilon = K.random_normal(shape=(batch_size, tf.shape(z_mean)[1], tf.shape(z_mean)[2]), mean=0., stddev=1.)\n",
    "\n",
    "    return z_mean + K.exp(0.5 * z_log_sigma) * epsilon\n",
    "\n",
    "def vae_loss(original, out, z_mean, z_log_sigma, tuning1=1.0, tuning2=1.0, tuning3=1.0, tuning4=1.0):\n",
    "    batch_size = tf.cast(tf.shape(z_mean)[0], tf.float32)\n",
    "    \n",
    "    diff1 = out[:, 1:, :] - out[:, :(-1), :]\n",
    "    diff2 = diff1[:, 1:, :] - diff1[:, :(-1), :]\n",
    "    \n",
    "    # smoothness factor to help make output smooth, square diff of 0/1st/2nd order differentiation\n",
    "    smoothness1 = K.mean(K.square(diff1)) * tuning1\n",
    "    smoothness2 = K.mean(K.square(diff2)) * tuning2\n",
    "    # SSE and KL-divergence.\n",
    "    reconstruction = K.sum(K.square(original - out)) * tuning3\n",
    "    kl = -0.5 * K.sum(1 + z_log_sigma - K.square(z_mean) - K.exp(z_log_sigma)) * tuning4\n",
    "\n",
    "    return (smoothness1 + smoothness2 + reconstruction + kl)/batch_size\n",
    "\n",
    "def Conv1DTranspose(input_tensor, filters=8, kernel_size=60, strides=4, padding='same', activation='relu'):\n",
    "    \"\"\"\n",
    "        Define de-convolutional layer use Conv2DTranspose\n",
    "        \n",
    "        input_tensor: tensor, with the shape (batch_size, time_steps, dims)\n",
    "        filters: int, output dimension, i.e. the output tensor will have the shape of (batch_size, time_steps, filters)\n",
    "        kernel_size: int, size of the convolution kernel\n",
    "        strides: int, convolution step size\n",
    "        padding: 'same' | 'valid'\n",
    "    \"\"\"\n",
    "    x = Lambda(lambda x: K.expand_dims(x, axis=2))(input_tensor)\n",
    "#     x = Conv2DTranspose(filters=filters, kernel_size=(kernel_size, 1), strides=(strides, 1), padding=padding, activation=activation)(x)\n",
    "    x = Conv2DTranspose(filters, (kernel_size, 1), strides=(strides, 1), padding=padding, activation=activation)(x)\n",
    "    x = Lambda(lambda x: K.squeeze(x, axis=2))(x)\n",
    "    return x"
   ]
  },
  {
   "cell_type": "code",
   "execution_count": 14,
   "id": "87997bab-b50a-41a1-8740-6768180d5500",
   "metadata": {},
   "outputs": [],
   "source": [
    "def get_model(shape_1, shape_2, shape_target, kernel_size = 60, stride_enc = (7,4,4,3), stride_dec = (7,4,4,3), tuning4_para = 1.0):\n",
    "    #latent_dim should be specified by conv1D output shape\n",
    "\n",
    "    ### encoder ###\n",
    "    \n",
    "    inp_AMOC = Input(shape = shape_1) # (batch_size, 179, 1)\n",
    "    inp_AMOCindex = Input(shape = shape_2)\n",
    "    AMOC_target = Input(shape = shape_target)\n",
    "    \n",
    "#     print(inp_AMOC.shape)\n",
    "#     print(inp_AMOCindex.shape)\n",
    "#     print(AMOC_target.shape)\n",
    "\n",
    "    enc_AMOC_1 = Conv1D(filters=8, strides=4, kernel_size=kernel_size, activation='relu', padding='same', input_shape=(inp_AMOC.shape[1:]))(\n",
    "        inp_AMOC) # (batch_size, 45, 8)\n",
    "    enc_AMOC_2 = Conv1D(filters=8, strides=3, kernel_size=kernel_size, activation='relu', padding='same')(enc_AMOC_1) # (batch_size, 15, 8)\n",
    "    enc_AMOC_3 = Conv1D(filters=8, strides=3, kernel_size=kernel_size, activation='relu', padding='same')(enc_AMOC_2) # (batch_size, 5, 8)\n",
    "    \n",
    "#     print(enc_AMOC_1.shape)\n",
    "#     print(enc_AMOC_2.shape)\n",
    "#     print(enc_AMOC_3.shape)\n",
    "    \n",
    "    enc_AMOCindex_1 = Conv1D(filters=8, strides=stride_enc[0], kernel_size=kernel_size, activation='relu', padding='same', input_shape=(inp_AMOCindex.shape[1:]))(\n",
    "        inp_AMOCindex) # (batch_size, 120, 8)\n",
    "    enc_AMOCindex_2 = Conv1D(filters=8, strides=stride_enc[1], kernel_size=kernel_size, activation='relu', padding='same')(enc_AMOCindex_1) # (batch_size, 30, 8)\n",
    "    enc_AMOCindex_3 = Conv1D(filters=8, strides=stride_enc[2], kernel_size=kernel_size, activation='relu', padding='same')(enc_AMOCindex_2) # (batch_size, 15, 8)\n",
    "    enc_AMOCindex_4 = Conv1D(filters=8, strides=stride_enc[3], kernel_size=kernel_size, activation='relu', padding='same')(enc_AMOCindex_3) # (batch_size, 5, 8)\n",
    "    \n",
    "#     print(enc_AMOCindex_1.shape)\n",
    "#     print(enc_AMOCindex_2.shape)\n",
    "#     print(enc_AMOCindex_3.shape)\n",
    "#     print(enc_AMOCindex_4.shape)\n",
    "    \n",
    "    enc_out = Concatenate(axis=2)([enc_AMOC_3] + [enc_AMOCindex_4]) # (batch_size, 5, 16)\n",
    "#     print(enc_out.shape)\n",
    "\n",
    "    z_mean = Dense(8)(enc_out) # (batch_size, 5, 8)\n",
    "    z_log_sigma = Dense(8)(enc_out) # (batch_size, 5, 8)\n",
    "    \n",
    "#     print(z_mean.shape)\n",
    "#     print(z_log_sigma.shape)\n",
    "\n",
    "    encoder = Model([inp_AMOC, inp_AMOCindex], [z_mean, z_log_sigma])\n",
    "\n",
    "    ### decoder ###\n",
    "\n",
    "    inp_z = Input(shape=z_mean.shape[1:]) # (batch_size, 5, 8)\n",
    "    \n",
    "#     print(inp_z.shape)\n",
    "\n",
    "    conv_1 = Conv1DTranspose(inp_z, filters=8, kernel_size=30, strides=stride_dec[0], padding='same', activation='relu') # (batch_size, 35, 8)\n",
    "    conv_2 = Conv1DTranspose(conv_1, filters=8, kernel_size=kernel_size, strides=stride_dec[1], padding='same', activation='relu') # (batch_size, 140, 8)\n",
    "    conv_3 = Conv1DTranspose(conv_2, filters=8, kernel_size=kernel_size, strides=stride_dec[2], padding='same', activation='relu') # (batch_size, 420, 8)\n",
    "    conv_4 = Conv1DTranspose(conv_3, filters=8, kernel_size=kernel_size, strides=stride_dec[3], padding='same', activation='linear') # (batch_size, 840, 8)\n",
    "    \n",
    "#     print(conv_1.shape)\n",
    "#     print(conv_2.shape)\n",
    "#     print(conv_3.shape)\n",
    "#     print(conv_4.shape)\n",
    "    \n",
    "    out = Dense(1)(conv_4) # (batch_size, 840, 1)\n",
    "#     print(out.shape)\n",
    "\n",
    "    decoder = Model([inp_z], [out])\n",
    "\n",
    "    ### encoder + decoder ###\n",
    "\n",
    "    z_mean, z_log_sigma = encoder([inp_AMOC, inp_AMOCindex])\n",
    "    z = Lambda(sampling)([z_mean, z_log_sigma])\n",
    "    pred = decoder([z])\n",
    "\n",
    "    vae = Model([inp_AMOC, inp_AMOCindex, AMOC_target], pred)\n",
    "    vae.add_loss(vae_loss(AMOC_target, pred, z_mean, z_log_sigma, tuning1=0, tuning2=0, tuning3=1.0, tuning4=tuning4_para))\n",
    "    vae.compile(loss=None, optimizer=Adam(learning_rate=1e-3))\n",
    "\n",
    "    return vae"
   ]
  },
  {
   "cell_type": "code",
   "execution_count": 15,
   "id": "d6d05708-a62a-4b86-a141-af9108ba723e",
   "metadata": {},
   "outputs": [],
   "source": [
    "# vae_model = get_model(AMOC_input_train_scaled.shape[1:], AMOCindex_input_train_scaled.shape[1:], target_train_scaled.shape[1:], tuning4_para = 1)\n",
    "# vae_model.summary()    "
   ]
  },
  {
   "cell_type": "code",
   "execution_count": null,
   "id": "1e915730-c487-47c4-96b3-0600715876ec",
   "metadata": {},
   "outputs": [
    {
     "name": "stdout",
     "output_type": "stream",
     "text": [
      "para: 1e-06\n",
      "para: 0.001\n",
      "para: 0.01\n"
     ]
    }
   ],
   "source": [
    "# Grid serach to find the best ratio between mse loss and KL-divergence in vae loss, the ratio is controlled by tuning parameter 4 in self-defined vae loss.\n",
    "grid_result = {}\n",
    "\n",
    "epoch_num = 200\n",
    "verbose = 0\n",
    "num_val_pred = 100\n",
    "tuning4_grid = [1e-6, 1e-3, 1e-2, 1e-1, 1, 1e1, 1e2]\n",
    "\n",
    "if AMOC_range == 140:\n",
    "    kernel_size = 60\n",
    "    stride_enc = (7,4,4,3)\n",
    "    stride_dec = (7,4,4,3)\n",
    "elif AMOC_range == 70:\n",
    "    kernel_size = 80\n",
    "    stride_enc = (7,4,2,3)\n",
    "    stride_dec = (7,4,3,2)\n",
    "else:\n",
    "    print('Need to define kernel size and stride size')\n",
    "\n",
    "nrows = math.ceil(len(tuning4_grid)/3)\n",
    "fig, axs = plt.subplots(nrows = nrows, ncols = 3, figsize = (20, 6*nrows))\n",
    "\n",
    "for i, para in enumerate(tuning4_grid):\n",
    "    print('para:', para)\n",
    "    # fit the model\n",
    "    tf.keras.backend.clear_session()\n",
    "    tf.random.set_seed(seed)\n",
    "    es = [\n",
    "    EarlyStopping(patience=20, verbose=verbose, min_delta=0.001, monitor='val_loss', mode='auto', restore_best_weights=True),\n",
    "    ModelCheckpoint(filepath=hyper_path+'beta_'+str(para)+'.hdf5', save_freq='epoch', save_best_only=True)]\n",
    "    vae_model = get_model(AMOC_input_train_scaled.shape[1:], AMOCindex_input_train_scaled.shape[1:], target_train_scaled.shape[1:], \n",
    "                          kernel_size = kernel_size, stride_enc = stride_enc, stride_dec = stride_dec, tuning4_para = para)\n",
    "    history = vae_model.fit([AMOC_input_train_scaled, AMOCindex_input_train_scaled, target_train_scaled], batch_size=128, epochs=epoch_num, validation_split=0.2, verbose=verbose, callbacks=es)\n",
    "    \n",
    "    # prediction on validation set\n",
    "    tf.random.set_seed(seed)\n",
    "    val_pred = np.zeros((num_val_pred, target_val_scaled.shape[0], target_val_scaled.shape[1], target_val_scaled.shape[2]))\n",
    "    for j in range(num_val_pred):\n",
    "        val_pred[j, :, :, :] = AMOC_scaler.inverse_transform(vae_model.predict([AMOC_input_val_scaled, AMOCindex_input_val_scaled, np.zeros(target_val_scaled.shape)], verbose = 0))\n",
    "#         if j%10 == 0:\n",
    "#             print(j)\n",
    "        \n",
    "    # record summary statistics\n",
    "    val_pred = np.squeeze(val_pred)\n",
    "    mean = np.mean(val_pred, axis = 0)\n",
    "    lower_q = np.quantile(val_pred, 0.025, axis = 0)\n",
    "    upper_q = np.quantile(val_pred, 0.975, axis = 0)\n",
    "#     std = np.std(val_pred, axis = 0)\n",
    "\n",
    "    grid_result[para] = [mean, lower_q, upper_q]\n",
    "    \n",
    "    # Visualize Model Training History\n",
    "    axs[i//3, i%3].plot(history.history['loss'])\n",
    "    axs[i//3, i%3].plot(history.history['val_loss'])\n",
    "    axs[i//3, i%3].set_title('Model loss for tuning4:' + str(para))\n",
    "    axs[i//3, i%3].set_ylabel('loss')\n",
    "    axs[i//3, i%3].set_xlabel('epoch')\n",
    "    axs[i//3, i%3].legend(['train', 'validation'], loc='upper left')\n",
    "\n",
    "plt.show()\n",
    "\n",
    "# fig.savefig(hyper_path+'history.png', bbox_inches='tight')\n",
    "# np.save(outDATA_path+'grid_result.npy', grid_result)"
   ]
  },
  {
   "cell_type": "code",
   "execution_count": null,
   "id": "a527c534-f724-4837-af77-fee5e4b2341d",
   "metadata": {},
   "outputs": [],
   "source": [
    "# load grid_result file\n",
    "# grid_result = np.load(outDATA_path+'grid_result.npy', allow_pickle=True)\n",
    "# grid_result = grid_result[()]\n",
    "\n",
    "# target = np.squeeze(AMOC_scaler.inverse_transform(target_val))\n",
    "target = np.squeeze(target_val)\n",
    "\n",
    "# np.save(outDATA_path+'val_target.npy', target)"
   ]
  },
  {
   "cell_type": "code",
   "execution_count": 23,
   "id": "246a01df-f969-49c7-9b45-b45c0500da14",
   "metadata": {
    "tags": []
   },
   "outputs": [
    {
     "data": {
      "image/png": "[encoded data removed]",
      "text/plain": [
       "<Figure size 504x360 with 1 Axes>"
      ]
     },
     "metadata": {
      "needs_background": "light"
     },
     "output_type": "display_data"
    }
   ],
   "source": [
    "# plot mspe based on validation data\n",
    "fig = plt.figure(figsize=(7, 5))\n",
    "for key in grid_result:\n",
    "    val_pred_mean = grid_result[key][0]\n",
    "    mspe = np.mean(np.square(target - val_pred_mean))\n",
    "    plt.plot(math.log10(key), mspe, marker = 'o')\n",
    "#     plt.plot(math.log10(key), math.log10(mspe), marker = 'o')\n",
    "plt.title('Hyperparameter Tuning: MSPE')\n",
    "plt.xlabel(r'$\\log_{10} \\beta$')\n",
    "plt.ylabel('MSPE (Sv)')\n",
    "# plt.ylim((0, 2))\n",
    "plt.show()\n",
    "\n",
    "# fig.savefig(hyper_path+'mspe.png', bbox_inches='tight')"
   ]
  },
  {
   "cell_type": "code",
   "execution_count": null,
   "id": "a1613aac-df99-48bb-a73a-9abfe867afc8",
   "metadata": {},
   "outputs": [],
   "source": [
    "# plot empirical coverage based on validation data set\n",
    "\n",
    "labels = []\n",
    "emp_coverage = []\n",
    "mae = []\n",
    "\n",
    "for key in grid_result:\n",
    "    # calculate empirical probability over validation data set\n",
    "    mean = grid_result[key][0]\n",
    "#     std = grid_result[key][1]\n",
    "#     ci = 1.96 * std\n",
    "#     lower = mean - ci\n",
    "#     upper = mean + ci\n",
    "    lower = grid_result[key][1]\n",
    "    upper = grid_result[key][2]\n",
    "    count = np.sum((target >= lower) & (target <= upper), axis = 1)\n",
    "    emp_prob = count/target_val.shape[1]\n",
    "    \n",
    "    # calculate mae over validation data set\n",
    "    val_bias = np.mean(np.absolute(target - mean), axis=1)\n",
    "    \n",
    "    labels.append(math.log10(key))\n",
    "    emp_coverage.append(emp_prob)\n",
    "    mae.append(val_bias)"
   ]
  },
  {
   "cell_type": "code",
   "execution_count": 25,
   "id": "519078ef-cf18-43ba-ac64-a864f378d759",
   "metadata": {},
   "outputs": [
    {
     "data": {
      "image/png": "[encoded data removed]",
      "text/plain": [
       "<Figure size 720x432 with 1 Axes>"
      ]
     },
     "metadata": {
      "needs_background": "light"
     },
     "output_type": "display_data"
    }
   ],
   "source": [
    "# plot empirical coverage based on validation data set\n",
    "fig = plt.figure(figsize=(10, 6))\n",
    "plt.boxplot(emp_coverage,\n",
    "            positions=list(range(len(labels))),\n",
    "            labels=labels)\n",
    "plt.axhline(y=0.95, color='red', linestyle='--', lw=1)\n",
    "plt.title('Hyperparameter Tuning: Boxplot of Empirical Coverage')\n",
    "plt.xlabel(r'$\\log_{10} \\beta$')\n",
    "plt.show()\n",
    "\n",
    "# fig.savefig(hyper_path+'box_emp_coverage.png', bbox_inches='tight') "
   ]
  },
  {
   "cell_type": "code",
   "execution_count": 27,
   "id": "2cb0212f-c590-4f55-ac34-0b2d70e9a03b",
   "metadata": {},
   "outputs": [
    {
     "data": {
      "image/png": "[encoded data removed]",
      "text/plain": [
       "<Figure size 720x432 with 1 Axes>"
      ]
     },
     "metadata": {
      "needs_background": "light"
     },
     "output_type": "display_data"
    }
   ],
   "source": [
    "# plot mae based on validation data set\n",
    "fig = plt.figure(figsize=(10, 6))\n",
    "plt.boxplot(mae,\n",
    "            positions=list(range(len(labels))),\n",
    "            labels=labels)\n",
    "plt.title('Hyperparameter Tuning: Boxplot of MAE')\n",
    "plt.xlabel(r'$\\log_{10} \\beta$')\n",
    "plt.ylabel('MAE (Sv)')\n",
    "plt.show()\n",
    "\n",
    "# fig.savefig(hyper_path+'box_mae.png', bbox_inches='tight')"
   ]
  },
  {
   "cell_type": "code",
   "execution_count": 28,
   "id": "eecafab0-7256-47ad-a89e-b258c63c2685",
   "metadata": {
    "tags": []
   },
   "outputs": [],
   "source": [
    "best_para = 0.1"
   ]
  },
  {
   "cell_type": "code",
   "execution_count": 29,
   "id": "cfd7cac2-ed52-4aac-b611-547638994181",
   "metadata": {
    "tags": []
   },
   "outputs": [],
   "source": [
    "# path to save model output: folder 'model_output' will not be shown on git \n",
    "# repo as the file is large, no need to git it.\n",
    "file = outDATA_path+'beta_' + str(best_para) + '/'"
   ]
  },
  {
   "cell_type": "code",
   "execution_count": 30,
   "id": "652324a8-8994-469b-9ad9-c509ff220a81",
   "metadata": {},
   "outputs": [
    {
     "data": {
      "image/png": "[encoded data removed]",
      "text/plain": [
       "<Figure size 720x432 with 1 Axes>"
      ]
     },
     "metadata": {
      "needs_background": "light"
     },
     "output_type": "display_data"
    }
   ],
   "source": [
    "# train model with best hyper parameter\n",
    "\n",
    "# combine training and validation data\n",
    "AMOC_input_train_scaled = np.concatenate((AMOC_input_train_scaled, AMOC_input_val_scaled), axis = 0)\n",
    "AMOCindex_input_train_scaled = np.concatenate((AMOCindex_input_train_scaled, AMOCindex_input_val_scaled), axis = 0)\n",
    "target_train_scaled = np.concatenate((target_train_scaled, target_val_scaled), axis = 0)\n",
    "\n",
    "# train model\n",
    "epoch_num = 200\n",
    "verbose = 0\n",
    "\n",
    "tf.keras.backend.clear_session()\n",
    "tf.random.set_seed(seed)\n",
    "es = [\n",
    "EarlyStopping(patience=20, verbose=verbose, min_delta=0.001, monitor='val_loss', mode='auto', restore_best_weights=True),\n",
    "ModelCheckpoint(filepath=hyper_path+'best_model_beta_'+str(best_para)+'.hdf5', save_freq='epoch', save_best_only=True)]\n",
    "vae = get_model(AMOC_input_train_scaled.shape[1:], AMOCindex_input_train_scaled.shape[1:], target_train_scaled.shape[1:], \n",
    "                kernel_size = kernel_size, stride_enc = stride_enc, stride_dec = stride_dec, tuning4_para = best_para)\n",
    "history = vae.fit([AMOC_input_train_scaled, AMOCindex_input_train_scaled, target_train_scaled], batch_size=128, epochs=epoch_num, validation_split=0.2, verbose=verbose, callbacks=es)\n",
    "\n",
    "# Visualize Model Training History\n",
    "fig = plt.figure(figsize=(10, 6))\n",
    "plt.plot(history.history['loss'])\n",
    "plt.plot(history.history['val_loss'])\n",
    "plt.title('Model Loss for beta:' + str(best_para))\n",
    "plt.ylabel('loss')\n",
    "plt.xlabel('epoch')\n",
    "plt.legend(['train', 'validation'], loc='upper left')\n",
    "plt.show()\n",
    "\n",
    "# np.save(file + 'history.npy', history.history)\n",
    "# fig.savefig(hyper_path+'best_model_beta_'+str(best_para)+'_history.png', bbox_inches='tight')"
   ]
  },
  {
   "cell_type": "code",
   "execution_count": 27,
   "id": "bcaa38b4-93be-4206-bff5-3bb2e4bd8e31",
   "metadata": {},
   "outputs": [],
   "source": [
    "# ATTENTION: prediction for test data set 'test_pred' need 421. GiB memory, \n",
    "# ensure have enough space."
   ]
  },
  {
   "cell_type": "code",
   "execution_count": 31,
   "id": "14cf4f89-3823-4fe4-b64f-9fcdec8a13e6",
   "metadata": {},
   "outputs": [
    {
     "name": "stdout",
     "output_type": "stream",
     "text": [
      "0\n",
      "100\n",
      "200\n",
      "300\n",
      "400\n",
      "500\n",
      "600\n",
      "700\n",
      "800\n",
      "900\n"
     ]
    }
   ],
   "source": [
    "vae = load_model(hyper_path+'best_model_beta_'+str(best_para)+'.hdf5')\n",
    "\n",
    "# Pred testing data set, prediction results should be in original scale\n",
    "test_pred = np.zeros((1000, target_test_scaled.shape[0], target_test_scaled.shape[1], target_test_scaled.shape[2]))\n",
    "\n",
    "tf.random.set_seed(seed+1)\n",
    "for i in range(1000):\n",
    "    test_pred[i, :, :, :] = AMOC_scaler.inverse_transform(vae.predict([AMOC_input_test_scaled, AMOCindex_input_test_scaled, np.zeros(target_test_scaled.shape)], verbose = 0))\n",
    "    \n",
    "    if i%100 == 0:\n",
    "        print(i)"
   ]
  },
  {
   "cell_type": "code",
   "execution_count": 32,
   "id": "486d174e-4fff-4b04-9479-878afa0dfdbd",
   "metadata": {},
   "outputs": [],
   "source": [
    "# # ATTENTION: prediction for test data set 'test_pred' need 421. GiB memory, \n",
    "# # ensure have enough space.\n",
    "\n",
    "# np.save(file + 'test_pred.npy', test_pred)"
   ]
  },
  {
   "cell_type": "code",
   "execution_count": 33,
   "id": "5dd6898c-7a52-481d-b52a-867dca507f75",
   "metadata": {},
   "outputs": [
    {
     "data": {
      "text/plain": [
       "[]"
      ]
     },
     "execution_count": 33,
     "metadata": {},
     "output_type": "execute_result"
    },
    {
     "data": {
      "image/png": "[encoded data removed]",
      "text/plain": [
       "<Figure size 1080x360 with 2 Axes>"
      ]
     },
     "metadata": {
      "needs_background": "light"
     },
     "output_type": "display_data"
    }
   ],
   "source": [
    "# plot some case in testing data set\n",
    "\n",
    "i = 1000\n",
    "\n",
    "test_pred_1000 = test_pred[:, i, :, :]\n",
    "AMOC_input_test_0 = AMOC_input_test[i, :, :]\n",
    "AMOCindex_input_test_0 = AMOCindex_input_test[i, :, :]\n",
    "target_test_0 = target_test[i, :, :]\n",
    "\n",
    "assert debug(AMOC_input_test, AMOC_input_test_scaled, AMOC_scaler)\n",
    "assert debug(AMOCindex_input_test, AMOCindex_input_test_scaled, AMOCindex_scaler)\n",
    "assert debug(target_test, target_test_scaled, AMOC_scaler)\n",
    "\n",
    "test_pred_1000 = np.squeeze(test_pred_1000)\n",
    "AMOC_input_test_0 = np.squeeze(AMOC_input_test_0)\n",
    "AMOCindex_input_test_0 = np.squeeze(AMOCindex_input_test_0)\n",
    "target_test_0 = np.squeeze(target_test_0)\n",
    "\n",
    "### confidence interval ###\n",
    "test_pred_1000 = np.squeeze(test_pred_1000)\n",
    "mean = np.mean(test_pred_1000, axis=0)\n",
    "lower = np.quantile(test_pred_1000, 0.025, axis = 0)\n",
    "upper = np.quantile(test_pred_1000, 0.975, axis = 0)\n",
    "# std = np.std(test_pred_1000, axis=0)\n",
    "# ci = 1.96 * std\n",
    "x = np.linspace(1, test_pred_1000.shape[1], test_pred_1000.shape[1])\n",
    "\n",
    "mask = np.array(~AMOC_Obs['Obs'].isna())\n",
    "\n",
    "foo = plt.figure(figsize=(15, 5))\n",
    "plt.subplot(2, 1, 1)\n",
    "plt.tight_layout(pad = 2)\n",
    "for j in range(6):\n",
    "    plt.plot(x[mask][j], AMOC_input_test_0[j], c='red', marker='x')\n",
    "plt.plot(x[mask][6:], AMOC_input_test_0[6:], c='red', label='Observations')\n",
    "plt.plot(target_test_0, c='blue', label='True mean trend')\n",
    "plt.plot(mean, c='orange', label='Estimated mean trend')\n",
    "plt.fill_between(x, lower, upper, color='navy', alpha=.2)\n",
    "plt.ylabel(r'AMOC [Strength (Sv)]')\n",
    "plt.legend()\n",
    "\n",
    "plt.subplot(2, 1, 2)\n",
    "plt.plot(AMOCindex_input_test_0, c='lightgray', label='AMOC index')\n",
    "plt.ylabel('Temperature ($^\\circ$C)')\n",
    "plt.legend()\n",
    "\n",
    "plt.plot()"
   ]
  },
  {
   "cell_type": "code",
   "execution_count": 34,
   "id": "7cebc872-2481-426a-bd42-31722127fc8f",
   "metadata": {},
   "outputs": [],
   "source": [
    "# save some representative testing data case\n",
    "for i in [0, 1000, 4000, 8000, 10000]:\n",
    "    np.save(file + 'test_pred_'+str(i)+'.npy', test_pred[:, i, :, :])\n",
    "    np.save(file + 'AMOC_input_test_'+str(i)+'.npy', AMOC_input_test[i, :, :])\n",
    "    np.save(file + 'AMOCindex_input_test_'+str(i)+'.npy', AMOCindex_input_test[i, :, :])\n",
    "    np.save(file + 'target_test_'+str(i)+'.npy', target_test[i, :, :])"
   ]
  },
  {
   "cell_type": "code",
   "execution_count": 35,
   "id": "01b70020-44da-495b-a2cb-1ca83303aa99",
   "metadata": {},
   "outputs": [],
   "source": [
    "# Get emp_prob: for each testing data set, find confidence interval over 1,000 trails prediction generated from vae, check if target value is in constructed confidence interval. \n",
    "# The ideal empircal probability should be 0.95 as we are constructing 95% CI.\n",
    "# target = np.squeeze(AMOC_scaler.inverse_transform(target_test)) # shape: (28,000, 840)\n",
    "target = np.squeeze(target_test) \n",
    "assert debug(target_test, target_test_scaled, AMOC_scaler)\n",
    "test_pred_1000 = np.squeeze(test_pred)\n",
    "\n",
    "# emp_prob\n",
    "mean = np.mean(test_pred_1000, axis=0)\n",
    "lower = np.quantile(test_pred_1000, 0.025, axis = 0)\n",
    "upper = np.quantile(test_pred_1000, 0.975, axis = 0)\n",
    "# std = np.std(test_pred_1000, axis=0)\n",
    "# ci = 1.96 * std\n",
    "# lower = mean - ci\n",
    "# upper = mean + ci\n",
    "count = np.sum((target >= lower) & (target <= upper), axis = 1)\n",
    "emp_prob = count/target_test.shape[1]\n",
    "\n",
    "# bias\n",
    "test_bias = target - mean"
   ]
  },
  {
   "cell_type": "code",
   "execution_count": 36,
   "id": "0403b4fe-5e47-4522-839b-86d71da24897",
   "metadata": {},
   "outputs": [],
   "source": [
    "np.save(file + 'emp_prob.npy', emp_prob)\n",
    "np.save(file + 'test_bias.npy', test_bias)\n",
    "np.save(file + 'test_pred_mean.npy', mean)\n",
    "np.save(file + 'test_pred_lower_q.npy', lower)\n",
    "np.save(file + 'test_pred_upper_q.npy', upper)"
   ]
  },
  {
   "cell_type": "code",
   "execution_count": 37,
   "id": "866c76ec-ec06-4367-bfd5-177716a7bea0",
   "metadata": {},
   "outputs": [],
   "source": [
    "### pred Observation data, prediction results should be in original scale ###\n",
    "AMOC_Obs = np.array(AMOC_Obs.loc[~AMOC_Obs['Obs'].isna(), 'Obs']).reshape((1, -1, 1))\n",
    "AMOC_Obs = AMOC_Obs - AMOC_Obs.mean()\n",
    "AMOC_Obs_scaled = AMOC_scaler.transform(AMOC_Obs)\n",
    "\n",
    "AMOCindex_Obs = np.array(AMOCindex_Obs[['Obs']]).reshape((1, -1, 1))\n",
    "AMOCindex_Obs = AMOCindex_Obs - AMOCindex_Obs.mean()\n",
    "AMOCindex_Obs_scaled = AMOCindex_scaler.transform(AMOCindex_Obs)\n",
    "\n",
    "# debugger to check if AMOC and AMOC index observation data is in 0-1 range\n",
    "assert np.min(AMOC_Obs_scaled) > 0\n",
    "assert np.max(AMOC_Obs_scaled) < 1\n",
    "assert np.min(AMOCindex_Obs_scaled) > 0\n",
    "assert np.max(AMOCindex_Obs_scaled) < 1\n",
    "\n",
    "Obs_pred = np.zeros((1000, target_test_scaled.shape[1], target_test_scaled.shape[2]))\n",
    "\n",
    "tf.random.set_seed(seed+2)\n",
    "for i in range(1000):\n",
    "    Obs_pred_0 = AMOC_scaler.inverse_transform(vae.predict([AMOC_Obs_scaled, AMOCindex_Obs_scaled, np.zeros((1, target_test_scaled.shape[1], target_test_scaled.shape[2]))], verbose = 0))\n",
    "    Obs_pred[i, :, :] = np.squeeze(Obs_pred_0, axis = 0)"
   ]
  },
  {
   "cell_type": "code",
   "execution_count": 38,
   "id": "44844e9d-6a3d-4be6-8731-23cd83303ed6",
   "metadata": {
    "tags": []
   },
   "outputs": [],
   "source": [
    "np.save(file + 'Obs_pred.npy', Obs_pred)"
   ]
  }
 ],
 "metadata": {
  "kernelspec": {
   "display_name": "Python 3.7 (Conda 2019.10) [python/3.7-2019.10]",
   "language": "python",
   "name": "python37_201910"
  },
  "language_info": {
   "codemirror_mode": {
    "name": "ipython",
    "version": 3
   },
   "file_extension": ".py",
   "mimetype": "text/x-python",
   "name": "python",
   "nbconvert_exporter": "python",
   "pygments_lexer": "ipython3",
   "version": "3.7.4"
  }
 },
 "nbformat": 4,
 "nbformat_minor": 5
}
